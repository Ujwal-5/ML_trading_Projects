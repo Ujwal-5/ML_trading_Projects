{
 "cells": [
  {
   "cell_type": "markdown",
   "metadata": {},
   "source": [
    "##### I have tried forecasting using lightgbm on GOOG data but result were pretty bad the reason may be the forecasting with small amout of close price data will not be enough. I need use multiple feature which have high correlation with dependent variable example volume to decrease Mean-Absolute-Error value.\n",
    "##### For now I will use AUDUSD 1Hr data since already have tuned models."
   ]
  },
  {
   "cell_type": "code",
   "execution_count": 3,
   "metadata": {},
   "outputs": [],
   "source": [
    "from backtesting import Backtest, Strategy\n",
    "from backtesting.lib import crossover\n",
    "import pandas as pd\n",
    "from backtesting.test import SMA, GOOG\n",
    "\n",
    "data = pd.read_csv(\"/home/ujwal/ML_program/Trading_financial_market/Algo-trading-with-ML/algo stratergy 1/AUDUSD_Candlestick_1_Hour_BID_03.09.2007-01.10.2022.csv\", index_col='Gmt time', parse_dates=True)\n"
   ]
  },
  {
   "cell_type": "code",
   "execution_count": 5,
   "metadata": {},
   "outputs": [
    {
     "name": "stdout",
     "output_type": "stream",
     "text": [
      "118972 13220\n"
     ]
    }
   ],
   "source": [
    "class SmaCross(Strategy):\n",
    "    q=265\n",
    "    w=145\n",
    "    def init(self):\n",
    "        # q=265\n",
    "        # w=145\n",
    "        price = self.data.Close\n",
    "        self.ma1 = self.I(SMA, price, self.q)\n",
    "        self.ma2 = self.I(SMA, price, self.w)\n",
    "\n",
    "    def next(self):\n",
    "        if crossover(self.ma1, self.ma2):\n",
    "            self.buy(size=10000)\n",
    "        elif crossover(self.ma2, self.ma1):\n",
    "            self.sell(size=10000)\n",
    "df = data.sort_index()\n",
    "# print(len(df))\n",
    "# print(\"train=\",len(df)*0.90)\n",
    "optimize, test = df[:118972], df[118972:] \n",
    "print(len(optimize), len(test))\n"
   ]
  },
  {
   "cell_type": "code",
   "execution_count": null,
   "metadata": {},
   "outputs": [],
   "source": [
    "# bt = Backtest(optimize, SmaCross, cash=10000, commission=0.01, margin=0.05, exclusive_orders=True)\n",
    "# optimized = bt.optimize(q=range(260,270,1), w=range(140,150,1), maximize='Calmar Ratio')\n",
    "# optimized\n",
    "# optimized._strategy\n",
    "# # SmaCross(q=265,w=145 got calmer Ratio of 3.594713"
   ]
  },
  {
   "cell_type": "code",
   "execution_count": 6,
   "metadata": {},
   "outputs": [
    {
     "data": {
      "text/plain": [
       "Start                     2021-03-30 04:00:00\n",
       "End                       2022-12-09 23:00:00\n",
       "Duration                    619 days 19:00:00\n",
       "Exposure Time [%]                    96.83056\n",
       "Equity Final [$]                    16913.868\n",
       "Equity Peak [$]                      17117.48\n",
       "Return [%]                           69.13868\n",
       "Buy & Hold Return [%]               -9.918835\n",
       "Return (Ann.) [%]                   41.643096\n",
       "Volatility (Ann.) [%]               37.492423\n",
       "Sharpe Ratio                         1.110707\n",
       "Sortino Ratio                         2.90269\n",
       "Calmar Ratio                         4.084082\n",
       "Max. Drawdown [%]                  -10.196439\n",
       "Avg. Drawdown [%]                    -0.89628\n",
       "Max. Drawdown Duration       87 days 01:00:00\n",
       "Avg. Drawdown Duration        4 days 06:00:00\n",
       "# Trades                                   62\n",
       "Win Rate [%]                        61.290323\n",
       "Best Trade [%]                      10.028343\n",
       "Worst Trade [%]                     -2.539272\n",
       "Avg. Trade [%]                       1.510755\n",
       "Max. Trade Duration          30 days 11:00:00\n",
       "Avg. Trade Duration           9 days 18:00:00\n",
       "Profit Factor                        5.426792\n",
       "Expectancy [%]                         1.5508\n",
       "SQN                                  4.162409\n",
       "_strategy                            SmaCross\n",
       "_equity_curve                             ...\n",
       "_trades                        Size  Entry...\n",
       "dtype: object"
      ]
     },
     "execution_count": 6,
     "metadata": {},
     "output_type": "execute_result"
    }
   ],
   "source": [
    "bt = Backtest(test, SmaCross, cash=10000, commission=0.01, margin=0.05, exclusive_orders=True)\n",
    "stats = bt.run()\n",
    "stats\n",
    "# Something wrong the value looks to good to be true, I think I should split data into 2 part one for optimize another for testing."
   ]
  },
  {
   "cell_type": "markdown",
   "metadata": {},
   "source": [
    "#### Increasing trade size according to ML confluence."
   ]
  },
  {
   "cell_type": "code",
   "execution_count": 7,
   "metadata": {},
   "outputs": [],
   "source": [
    "# 10 day future prediction\n",
    "# loading model\n",
    "import pickle\n",
    "import numpy as np\n",
    "LGBMRegressor_model = pickle.load(open('/home/ujwal/ML_program/Trading_financial_market/Predicting_AUDUSD_Using_Major_Regression_Models/LGBMRegressor.pkl', 'rb'))\n",
    "def lgb(prices):\n",
    "    x = prices.reshape(1,-1)\n",
    "    forecast = []\n",
    "\n",
    "    for i in range(5):\n",
    "        forc = LGBMRegressor_model.predict(X=x)\n",
    "        forecast = np.append(forecast, forc)\n",
    "        x = np.append(x, forc)\n",
    "        x = np.delete(x, 0)\n",
    "        x = x.reshape(1, -1)\n",
    "        # print(x)\n",
    "\n",
    "    return forecast"
   ]
  },
  {
   "cell_type": "code",
   "execution_count": 9,
   "metadata": {},
   "outputs": [
    {
     "name": "stdout",
     "output_type": "stream",
     "text": [
      "118972 13220\n"
     ]
    }
   ],
   "source": [
    "class SmaCross1(Strategy):\n",
    "    # q=265\n",
    "    # w=145\n",
    "    def init(self):\n",
    "        q=265\n",
    "        w=145\n",
    "        price = self.data.Close\n",
    "        # a = self._FULL_EQUITY\n",
    "        # print(a)\n",
    "        self.ma1 = self.I(SMA, price, q)\n",
    "        self.ma2 = self.I(SMA, price, w)\n",
    "\n",
    "    def next(self):\n",
    "        prices = self.data.Close[-60:]\n",
    "        eqty = self.equity\n",
    "        # b= self.buy()\n",
    "        if crossover(self.ma1, self.ma2):\n",
    "            # self.buy(size=self._FULL_EQUITY)\n",
    "            fore_val = lgb(prices) \n",
    "            if prices[-1:]<=(fore_val[0] and fore_val[1] and fore_val[2] and fore_val[3] and fore_val[4]):\n",
    "                  self.buy(size=int(eqty*2))\n",
    "            elif prices[-1:]<=(fore_val[0] and fore_val[1] and fore_val[2] and fore_val[3]) :\n",
    "                self.buy(size=int(eqty*1.5))\n",
    "            elif prices[-1:]<=(fore_val[0] and fore_val[1] and fore_val[2]) :\n",
    "                self.buy(size=int(eqty*1))\n",
    "            elif prices[-1:]<=(fore_val[0] and fore_val[1]) :\n",
    "                self.buy(size=int(eqty))\n",
    "            elif prices[-1:]<=fore_val[0] :\n",
    "                self.buy(size=int(eqty*0.5))\n",
    "                # print(int(a))\n",
    "\n",
    "\n",
    "        elif crossover(self.ma2, self.ma1):\n",
    "            fore_val = lgb(prices)     \n",
    "            if prices[-1:]>=(fore_val[0] and fore_val[1] and fore_val[2] and fore_val[3] and fore_val[4]):\n",
    "                self.sell(size=int(eqty*2))   \n",
    "            elif prices[-1:]>=(fore_val[0] and fore_val[1] and fore_val[2] and fore_val[3]) :\n",
    "                self.sell(size=int(eqty*1.5)) \n",
    "            elif prices[-1:]>=(fore_val[0] and fore_val[1] and fore_val[2]) :\n",
    "                self.sell(size=int(eqty*1))\n",
    "            elif prices[-1:] >= (fore_val[0] and fore_val[1]) :\n",
    "                self.sell(size=int(eqty))\n",
    "            elif prices[-1:]>=fore_val[0] :\n",
    "                self.sell(size=int(eqty*0.5))\n",
    "                # print(int(self.equity*0.01))\n",
    "\n",
    "\n",
    "\n",
    "df = data.sort_index()\n",
    "# print(len(df))\n",
    "# print(\"train=\",len(df)*0.90)\n",
    "optimize, test = df[:118972], df[118972:] \n",
    "print(len(optimize), len(test))\n"
   ]
  },
  {
   "cell_type": "code",
   "execution_count": 10,
   "metadata": {},
   "outputs": [
    {
     "data": {
      "text/plain": [
       "Start                     2021-03-30 04:00:00\n",
       "End                       2022-12-09 23:00:00\n",
       "Duration                    619 days 19:00:00\n",
       "Exposure Time [%]                    96.83056\n",
       "Equity Final [$]                 21944.365692\n",
       "Equity Peak [$]                   22788.94152\n",
       "Return [%]                         119.443657\n",
       "Buy & Hold Return [%]               -9.918835\n",
       "Return (Ann.) [%]                   68.307426\n",
       "Volatility (Ann.) [%]              114.315297\n",
       "Sharpe Ratio                         0.597535\n",
       "Sortino Ratio                        2.022475\n",
       "Calmar Ratio                         2.909552\n",
       "Max. Drawdown [%]                  -23.476956\n",
       "Avg. Drawdown [%]                   -2.478748\n",
       "Max. Drawdown Duration      120 days 16:00:00\n",
       "Avg. Drawdown Duration        5 days 12:00:00\n",
       "# Trades                                   39\n",
       "Win Rate [%]                        58.974359\n",
       "Best Trade [%]                      10.028343\n",
       "Worst Trade [%]                     -3.613742\n",
       "Avg. Trade [%]                       1.398537\n",
       "Max. Trade Duration          43 days 00:00:00\n",
       "Avg. Trade Duration          15 days 11:00:00\n",
       "Profit Factor                        3.260461\n",
       "Expectancy [%]                       1.451887\n",
       "SQN                                  2.802749\n",
       "_strategy                           SmaCross1\n",
       "_equity_curve                             ...\n",
       "_trades                        Size  Entry...\n",
       "dtype: object"
      ]
     },
     "execution_count": 10,
     "metadata": {},
     "output_type": "execute_result"
    }
   ],
   "source": [
    "bt = Backtest(test, SmaCross1, cash=10000, commission=0.01, margin=0.05, exclusive_orders=True)\n",
    "stats = bt.run()\n",
    "stats\n",
    "# Something wrong the value looks to good to be true, I think I should split data into 2 part one for optimize another for testing."
   ]
  },
  {
   "cell_type": "markdown",
   "metadata": {},
   "source": [
    "#### Lets check for full dataframe."
   ]
  },
  {
   "cell_type": "code",
   "execution_count": 12,
   "metadata": {},
   "outputs": [
    {
     "data": {
      "text/plain": [
       "Start                     2007-01-10 00:00:00\n",
       "End                       2022-12-09 23:00:00\n",
       "Duration                   5812 days 23:00:00\n",
       "Exposure Time [%]                   99.767762\n",
       "Equity Final [$]           58830604001.500519\n",
       "Equity Peak [$]            61094865789.393616\n",
       "Return [%]                   588305940.015005\n",
       "Buy & Hold Return [%]              -22.617805\n",
       "Return (Ann.) [%]                  180.933144\n",
       "Volatility (Ann.) [%]               457.70381\n",
       "Sharpe Ratio                         0.395306\n",
       "Sortino Ratio                        3.238896\n",
       "Calmar Ratio                         2.781923\n",
       "Max. Drawdown [%]                  -65.038873\n",
       "Avg. Drawdown [%]                   -3.114196\n",
       "Max. Drawdown Duration      391 days 01:00:00\n",
       "Avg. Drawdown Duration        5 days 19:00:00\n",
       "# Trades                                  423\n",
       "Win Rate [%]                        61.702128\n",
       "Best Trade [%]                      34.107959\n",
       "Worst Trade [%]                    -23.224998\n",
       "Avg. Trade [%]                       2.493254\n",
       "Max. Trade Duration          81 days 14:00:00\n",
       "Avg. Trade Duration          13 days 13:00:00\n",
       "Profit Factor                        3.409633\n",
       "Expectancy [%]                       2.720766\n",
       "SQN                                  4.144547\n",
       "_strategy                           SmaCross1\n",
       "_equity_curve                             ...\n",
       "_trades                                Siz...\n",
       "dtype: object"
      ]
     },
     "execution_count": 12,
     "metadata": {},
     "output_type": "execute_result"
    }
   ],
   "source": [
    "# LGBMRegressor confluence.\n",
    "bt = Backtest(df, SmaCross1, cash=10000, commission=0.01, margin=0.05, exclusive_orders=True)\n",
    "stats = bt.run()\n",
    "stats\n",
    "# Something wrong the value looks to good to be true, I think I should split data into 2 part one for optimize another for testing."
   ]
  },
  {
   "cell_type": "code",
   "execution_count": 13,
   "metadata": {},
   "outputs": [
    {
     "data": {
      "text/plain": [
       "Start                     2007-01-10 00:00:00\n",
       "End                       2022-12-09 23:00:00\n",
       "Duration                   5812 days 23:00:00\n",
       "Exposure Time [%]                   99.767762\n",
       "Equity Final [$]                   181924.872\n",
       "Equity Peak [$]                    182128.484\n",
       "Return [%]                         1719.24872\n",
       "Buy & Hold Return [%]              -22.617805\n",
       "Return (Ann.) [%]                   21.196361\n",
       "Volatility (Ann.) [%]               13.444903\n",
       "Sharpe Ratio                         1.576535\n",
       "Sortino Ratio                         4.98178\n",
       "Calmar Ratio                         3.251078\n",
       "Max. Drawdown [%]                   -6.519795\n",
       "Avg. Drawdown [%]                   -0.194649\n",
       "Max. Drawdown Duration      202 days 01:00:00\n",
       "Avg. Drawdown Duration        3 days 17:00:00\n",
       "# Trades                                  706\n",
       "Win Rate [%]                        62.889518\n",
       "Best Trade [%]                      34.107959\n",
       "Worst Trade [%]                     -7.757331\n",
       "Avg. Trade [%]                       2.818504\n",
       "Max. Trade Duration          30 days 11:00:00\n",
       "Avg. Trade Duration           8 days 03:00:00\n",
       "Profit Factor                        6.952301\n",
       "Expectancy [%]                       2.961308\n",
       "SQN                                 14.125559\n",
       "_strategy                            SmaCross\n",
       "_equity_curve                             ...\n",
       "_trades                         Size  Entr...\n",
       "dtype: object"
      ]
     },
     "execution_count": 13,
     "metadata": {},
     "output_type": "execute_result"
    }
   ],
   "source": [
    "# Without confluence.\n",
    "bt = Backtest(df, SmaCross, cash=10000, commission=0.01, margin=0.05, exclusive_orders=True)\n",
    "stats = bt.run()\n",
    "stats\n",
    "# Something wrong the value looks to good to be true, I think I should split data into 2 part one for optimize another for testing."
   ]
  }
 ],
 "metadata": {
  "kernelspec": {
   "display_name": "Python 3.9.12 ('base')",
   "language": "python",
   "name": "python3"
  },
  "language_info": {
   "codemirror_mode": {
    "name": "ipython",
    "version": 3
   },
   "file_extension": ".py",
   "mimetype": "text/x-python",
   "name": "python",
   "nbconvert_exporter": "python",
   "pygments_lexer": "ipython3",
   "version": "3.9.12"
  },
  "orig_nbformat": 4,
  "vscode": {
   "interpreter": {
    "hash": "66a19ea5f20bc52e6cb3c92a7c78abc463452fe56590fefcffb22eb4ed19e131"
   }
  }
 },
 "nbformat": 4,
 "nbformat_minor": 2
}
