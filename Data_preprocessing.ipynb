{
 "cells": [
  {
   "cell_type": "code",
   "execution_count": 1,
   "metadata": {},
   "outputs": [],
   "source": [
    "import pandas as pd\n",
    "import numpy as np\n",
    "import matplotlib.pyplot as plt\n",
    "import seaborn as sns\n"
   ]
  },
  {
   "cell_type": "code",
   "execution_count": 2,
   "metadata": {},
   "outputs": [
    {
     "data": {
      "text/html": [
       "<div>\n",
       "<style scoped>\n",
       "    .dataframe tbody tr th:only-of-type {\n",
       "        vertical-align: middle;\n",
       "    }\n",
       "\n",
       "    .dataframe tbody tr th {\n",
       "        vertical-align: top;\n",
       "    }\n",
       "\n",
       "    .dataframe thead th {\n",
       "        text-align: right;\n",
       "    }\n",
       "</style>\n",
       "<table border=\"1\" class=\"dataframe\">\n",
       "  <thead>\n",
       "    <tr style=\"text-align: right;\">\n",
       "      <th></th>\n",
       "      <th>Gmt time</th>\n",
       "      <th>Open</th>\n",
       "      <th>High</th>\n",
       "      <th>Low</th>\n",
       "      <th>Close</th>\n",
       "      <th>Volume</th>\n",
       "    </tr>\n",
       "  </thead>\n",
       "  <tbody>\n",
       "    <tr>\n",
       "      <th>0</th>\n",
       "      <td>03.09.2007 00:00:00.000</td>\n",
       "      <td>0.82127</td>\n",
       "      <td>0.82207</td>\n",
       "      <td>0.82057</td>\n",
       "      <td>0.82157</td>\n",
       "      <td>184.95</td>\n",
       "    </tr>\n",
       "    <tr>\n",
       "      <th>1</th>\n",
       "      <td>03.09.2007 01:00:00.000</td>\n",
       "      <td>0.82147</td>\n",
       "      <td>0.82287</td>\n",
       "      <td>0.82097</td>\n",
       "      <td>0.82237</td>\n",
       "      <td>310.37</td>\n",
       "    </tr>\n",
       "    <tr>\n",
       "      <th>2</th>\n",
       "      <td>03.09.2007 02:00:00.000</td>\n",
       "      <td>0.82227</td>\n",
       "      <td>0.82367</td>\n",
       "      <td>0.82187</td>\n",
       "      <td>0.82267</td>\n",
       "      <td>419.97</td>\n",
       "    </tr>\n",
       "    <tr>\n",
       "      <th>3</th>\n",
       "      <td>03.09.2007 03:00:00.000</td>\n",
       "      <td>0.82287</td>\n",
       "      <td>0.82387</td>\n",
       "      <td>0.82157</td>\n",
       "      <td>0.82327</td>\n",
       "      <td>367.18</td>\n",
       "    </tr>\n",
       "    <tr>\n",
       "      <th>4</th>\n",
       "      <td>03.09.2007 04:00:00.000</td>\n",
       "      <td>0.82337</td>\n",
       "      <td>0.82387</td>\n",
       "      <td>0.82127</td>\n",
       "      <td>0.82157</td>\n",
       "      <td>257.45</td>\n",
       "    </tr>\n",
       "    <tr>\n",
       "      <th>...</th>\n",
       "      <td>...</td>\n",
       "      <td>...</td>\n",
       "      <td>...</td>\n",
       "      <td>...</td>\n",
       "      <td>...</td>\n",
       "      <td>...</td>\n",
       "    </tr>\n",
       "    <tr>\n",
       "      <th>132187</th>\n",
       "      <td>01.10.2022 19:00:00.000</td>\n",
       "      <td>0.64023</td>\n",
       "      <td>0.64023</td>\n",
       "      <td>0.64023</td>\n",
       "      <td>0.64023</td>\n",
       "      <td>0.00</td>\n",
       "    </tr>\n",
       "    <tr>\n",
       "      <th>132188</th>\n",
       "      <td>01.10.2022 20:00:00.000</td>\n",
       "      <td>0.64023</td>\n",
       "      <td>0.64023</td>\n",
       "      <td>0.64023</td>\n",
       "      <td>0.64023</td>\n",
       "      <td>0.00</td>\n",
       "    </tr>\n",
       "    <tr>\n",
       "      <th>132189</th>\n",
       "      <td>01.10.2022 21:00:00.000</td>\n",
       "      <td>0.64023</td>\n",
       "      <td>0.64023</td>\n",
       "      <td>0.64023</td>\n",
       "      <td>0.64023</td>\n",
       "      <td>0.00</td>\n",
       "    </tr>\n",
       "    <tr>\n",
       "      <th>132190</th>\n",
       "      <td>01.10.2022 22:00:00.000</td>\n",
       "      <td>0.64023</td>\n",
       "      <td>0.64023</td>\n",
       "      <td>0.64023</td>\n",
       "      <td>0.64023</td>\n",
       "      <td>0.00</td>\n",
       "    </tr>\n",
       "    <tr>\n",
       "      <th>132191</th>\n",
       "      <td>01.10.2022 23:00:00.000</td>\n",
       "      <td>0.64023</td>\n",
       "      <td>0.64023</td>\n",
       "      <td>0.64023</td>\n",
       "      <td>0.64023</td>\n",
       "      <td>0.00</td>\n",
       "    </tr>\n",
       "  </tbody>\n",
       "</table>\n",
       "<p>132192 rows × 6 columns</p>\n",
       "</div>"
      ],
      "text/plain": [
       "                       Gmt time     Open     High      Low    Close  Volume\n",
       "0       03.09.2007 00:00:00.000  0.82127  0.82207  0.82057  0.82157  184.95\n",
       "1       03.09.2007 01:00:00.000  0.82147  0.82287  0.82097  0.82237  310.37\n",
       "2       03.09.2007 02:00:00.000  0.82227  0.82367  0.82187  0.82267  419.97\n",
       "3       03.09.2007 03:00:00.000  0.82287  0.82387  0.82157  0.82327  367.18\n",
       "4       03.09.2007 04:00:00.000  0.82337  0.82387  0.82127  0.82157  257.45\n",
       "...                         ...      ...      ...      ...      ...     ...\n",
       "132187  01.10.2022 19:00:00.000  0.64023  0.64023  0.64023  0.64023    0.00\n",
       "132188  01.10.2022 20:00:00.000  0.64023  0.64023  0.64023  0.64023    0.00\n",
       "132189  01.10.2022 21:00:00.000  0.64023  0.64023  0.64023  0.64023    0.00\n",
       "132190  01.10.2022 22:00:00.000  0.64023  0.64023  0.64023  0.64023    0.00\n",
       "132191  01.10.2022 23:00:00.000  0.64023  0.64023  0.64023  0.64023    0.00\n",
       "\n",
       "[132192 rows x 6 columns]"
      ]
     },
     "execution_count": 2,
     "metadata": {},
     "output_type": "execute_result"
    }
   ],
   "source": [
    "#loading data\n",
    "data = pd.read_csv('/home/ujwal/ML_program/Trading_financial_market/Predicting_AUDUSD_Using_Major_Regression_Models/AUDUSD_Candlestick_1_Hour_BID_03.09.2007-01.10.2022.csv')\n",
    "data"
   ]
  },
  {
   "cell_type": "code",
   "execution_count": 3,
   "metadata": {},
   "outputs": [
    {
     "data": {
      "text/html": [
       "<div>\n",
       "<style scoped>\n",
       "    .dataframe tbody tr th:only-of-type {\n",
       "        vertical-align: middle;\n",
       "    }\n",
       "\n",
       "    .dataframe tbody tr th {\n",
       "        vertical-align: top;\n",
       "    }\n",
       "\n",
       "    .dataframe thead th {\n",
       "        text-align: right;\n",
       "    }\n",
       "</style>\n",
       "<table border=\"1\" class=\"dataframe\">\n",
       "  <thead>\n",
       "    <tr style=\"text-align: right;\">\n",
       "      <th></th>\n",
       "      <th>Open</th>\n",
       "      <th>High</th>\n",
       "      <th>Low</th>\n",
       "      <th>Close</th>\n",
       "      <th>Volume</th>\n",
       "    </tr>\n",
       "    <tr>\n",
       "      <th>Gmt time</th>\n",
       "      <th></th>\n",
       "      <th></th>\n",
       "      <th></th>\n",
       "      <th></th>\n",
       "      <th></th>\n",
       "    </tr>\n",
       "  </thead>\n",
       "  <tbody>\n",
       "    <tr>\n",
       "      <th>03.09.2007 00:00:00.000</th>\n",
       "      <td>0.82127</td>\n",
       "      <td>0.82207</td>\n",
       "      <td>0.82057</td>\n",
       "      <td>0.82157</td>\n",
       "      <td>184.95</td>\n",
       "    </tr>\n",
       "    <tr>\n",
       "      <th>03.09.2007 01:00:00.000</th>\n",
       "      <td>0.82147</td>\n",
       "      <td>0.82287</td>\n",
       "      <td>0.82097</td>\n",
       "      <td>0.82237</td>\n",
       "      <td>310.37</td>\n",
       "    </tr>\n",
       "    <tr>\n",
       "      <th>03.09.2007 02:00:00.000</th>\n",
       "      <td>0.82227</td>\n",
       "      <td>0.82367</td>\n",
       "      <td>0.82187</td>\n",
       "      <td>0.82267</td>\n",
       "      <td>419.97</td>\n",
       "    </tr>\n",
       "    <tr>\n",
       "      <th>03.09.2007 03:00:00.000</th>\n",
       "      <td>0.82287</td>\n",
       "      <td>0.82387</td>\n",
       "      <td>0.82157</td>\n",
       "      <td>0.82327</td>\n",
       "      <td>367.18</td>\n",
       "    </tr>\n",
       "    <tr>\n",
       "      <th>03.09.2007 04:00:00.000</th>\n",
       "      <td>0.82337</td>\n",
       "      <td>0.82387</td>\n",
       "      <td>0.82127</td>\n",
       "      <td>0.82157</td>\n",
       "      <td>257.45</td>\n",
       "    </tr>\n",
       "    <tr>\n",
       "      <th>...</th>\n",
       "      <td>...</td>\n",
       "      <td>...</td>\n",
       "      <td>...</td>\n",
       "      <td>...</td>\n",
       "      <td>...</td>\n",
       "    </tr>\n",
       "    <tr>\n",
       "      <th>01.10.2022 19:00:00.000</th>\n",
       "      <td>0.64023</td>\n",
       "      <td>0.64023</td>\n",
       "      <td>0.64023</td>\n",
       "      <td>0.64023</td>\n",
       "      <td>0.00</td>\n",
       "    </tr>\n",
       "    <tr>\n",
       "      <th>01.10.2022 20:00:00.000</th>\n",
       "      <td>0.64023</td>\n",
       "      <td>0.64023</td>\n",
       "      <td>0.64023</td>\n",
       "      <td>0.64023</td>\n",
       "      <td>0.00</td>\n",
       "    </tr>\n",
       "    <tr>\n",
       "      <th>01.10.2022 21:00:00.000</th>\n",
       "      <td>0.64023</td>\n",
       "      <td>0.64023</td>\n",
       "      <td>0.64023</td>\n",
       "      <td>0.64023</td>\n",
       "      <td>0.00</td>\n",
       "    </tr>\n",
       "    <tr>\n",
       "      <th>01.10.2022 22:00:00.000</th>\n",
       "      <td>0.64023</td>\n",
       "      <td>0.64023</td>\n",
       "      <td>0.64023</td>\n",
       "      <td>0.64023</td>\n",
       "      <td>0.00</td>\n",
       "    </tr>\n",
       "    <tr>\n",
       "      <th>01.10.2022 23:00:00.000</th>\n",
       "      <td>0.64023</td>\n",
       "      <td>0.64023</td>\n",
       "      <td>0.64023</td>\n",
       "      <td>0.64023</td>\n",
       "      <td>0.00</td>\n",
       "    </tr>\n",
       "  </tbody>\n",
       "</table>\n",
       "<p>132192 rows × 5 columns</p>\n",
       "</div>"
      ],
      "text/plain": [
       "                            Open     High      Low    Close  Volume\n",
       "Gmt time                                                           \n",
       "03.09.2007 00:00:00.000  0.82127  0.82207  0.82057  0.82157  184.95\n",
       "03.09.2007 01:00:00.000  0.82147  0.82287  0.82097  0.82237  310.37\n",
       "03.09.2007 02:00:00.000  0.82227  0.82367  0.82187  0.82267  419.97\n",
       "03.09.2007 03:00:00.000  0.82287  0.82387  0.82157  0.82327  367.18\n",
       "03.09.2007 04:00:00.000  0.82337  0.82387  0.82127  0.82157  257.45\n",
       "...                          ...      ...      ...      ...     ...\n",
       "01.10.2022 19:00:00.000  0.64023  0.64023  0.64023  0.64023    0.00\n",
       "01.10.2022 20:00:00.000  0.64023  0.64023  0.64023  0.64023    0.00\n",
       "01.10.2022 21:00:00.000  0.64023  0.64023  0.64023  0.64023    0.00\n",
       "01.10.2022 22:00:00.000  0.64023  0.64023  0.64023  0.64023    0.00\n",
       "01.10.2022 23:00:00.000  0.64023  0.64023  0.64023  0.64023    0.00\n",
       "\n",
       "[132192 rows x 5 columns]"
      ]
     },
     "execution_count": 3,
     "metadata": {},
     "output_type": "execute_result"
    }
   ],
   "source": [
    "data.set_index('Gmt time')"
   ]
  },
  {
   "cell_type": "code",
   "execution_count": 4,
   "metadata": {},
   "outputs": [
    {
     "data": {
      "text/plain": [
       "<AxesSubplot:>"
      ]
     },
     "execution_count": 4,
     "metadata": {},
     "output_type": "execute_result"
    },
    {
     "data": {
      "image/png": "[encoded data removed]",
      "text/plain": [
       "<Figure size 1440x576 with 2 Axes>"
      ]
     },
     "metadata": {
      "needs_background": "light"
     },
     "output_type": "display_data"
    }
   ],
   "source": [
    "plt.figure(figsize=(20, 8))\n",
    "cor = data.corr()\n",
    "sns.heatmap(cor, annot= True, cmap=plt.cm.CMRmap_r)"
   ]
  },
  {
   "cell_type": "code",
   "execution_count": 5,
   "metadata": {},
   "outputs": [],
   "source": [
    "# droping Open,High, Low since it high correlation with each other and dropping Volume since it has very low correlation.\n",
    "data = data.drop({'Open', 'High', 'Low','Volume'}, axis=1)"
   ]
  },
  {
   "cell_type": "code",
   "execution_count": 6,
   "metadata": {},
   "outputs": [
    {
     "name": "stdout",
     "output_type": "stream",
     "text": [
      "number of nan value present = Gmt time    0\n",
      "Close       0\n",
      "dtype: int64\n"
     ]
    }
   ],
   "source": [
    "\n",
    "# sum_inf = np.isinf(data).values.sum()\n",
    "sum_nan = data.isna().sum()\n",
    "# print(\"number of inf value present =\", sum_inf)\n",
    "print(\"number of nan value present =\", sum_nan)\n"
   ]
  },
  {
   "cell_type": "code",
   "execution_count": 7,
   "metadata": {},
   "outputs": [
    {
     "name": "stdout",
     "output_type": "stream",
     "text": [
      "132192\n",
      "train= 92534.4\n",
      "val= 19828.8\n",
      "test= 19828.8\n"
     ]
    }
   ],
   "source": [
    "print(len(data))\n",
    "print(\"train=\",len(data)*0.70)\n",
    "print(\"val=\", len(data)*0.15)\n",
    "print(\"test=\", len(data)*0.15)"
   ]
  },
  {
   "cell_type": "code",
   "execution_count": 8,
   "metadata": {},
   "outputs": [
    {
     "name": "stdout",
     "output_type": "stream",
     "text": [
      "92534 19828 19830\n"
     ]
    }
   ],
   "source": [
    "# Split dataset to train, val, test as 70%-15%-15%\n",
    "train, temp = data[:92534], data[92534:] \n",
    "val, test = temp[:19828], temp[19828:] \n",
    "print(len(train), len(val), len(test))"
   ]
  },
  {
   "cell_type": "code",
   "execution_count": 12,
   "metadata": {},
   "outputs": [],
   "source": [
    "import numpy as np\n",
    "\n",
    "def sampling_multi_target(n_steps_back, n_steps_future):\n",
    "    import pandas as pd\n",
    "    import numpy as np\n",
    "    data = pd.read_csv('/home/ujwal/ML_program/Trading_financial_market/Predicting_AUDUSD_Using_Major_Regression_Models/AUDUSD_Candlestick_1_Hour_BID_03.09.2007-01.10.2022.csv')\n",
    "    data.set_index('Gmt time')\n",
    "    data = data.drop({'Open', 'High', 'Low','Volume'}, axis=1)\n",
    "    train, temp = data[:92534], data[92534:] \n",
    "    val, test = temp[:19828], temp[19828:] \n",
    "    def sampleM(sequence):\n",
    "        X, Y = list(), list()\n",
    "        \n",
    "        for i in range(len(sequence)):\n",
    "            \n",
    "            sam = i + n_steps_back\n",
    "            fut = sam + n_steps_future\n",
    "            if fut > len(sequence)-1:\n",
    "                break\n",
    "            x, y = sequence[i:sam], sequence[sam:fut]\n",
    "            X.append(x)\n",
    "            Y.append(y)\n",
    "        return np.array(X), np.array(Y)\n",
    "\n",
    "    train_X, train_Y = sampleM(train['Close'].tolist())\n",
    "    val_X, val_Y = sampleM(val['Close'].tolist())\n",
    "    test_X, test_Y = sampleM(test['Close'].tolist())\n",
    "    return train_X, train_Y, val_X, val_Y, test_X, test_Y\n"
   ]
  },
  {
   "cell_type": "code",
   "execution_count": 13,
   "metadata": {},
   "outputs": [],
   "source": [
    "n_steps_back = 60\n",
    "n_steps_future=10\n",
    "\n",
    "train_X, train_Y, val_X, val_Y, test_X, test_Y,  = sampling_multi_target(n_steps_back, n_steps_future)"
   ]
  },
  {
   "cell_type": "code",
   "execution_count": 14,
   "metadata": {},
   "outputs": [
    {
     "data": {
      "text/plain": [
       "array([0.81957, 0.82017, 0.82047, 0.82077, 0.82087, 0.82117, 0.82287,\n",
       "       0.82257, 0.82117, 0.82037, 0.82067, 0.82487, 0.82397, 0.82447,\n",
       "       0.82457, 0.82667, 0.82647, 0.82357, 0.82487, 0.82467, 0.82287,\n",
       "       0.82417, 0.82357, 0.82547, 0.82437, 0.82407, 0.82267, 0.82187,\n",
       "       0.82357, 0.82387, 0.82447, 0.82447, 0.82547, 0.82797, 0.82737,\n",
       "       0.82727, 0.82437, 0.82497, 0.82377, 0.82377, 0.82237, 0.81907,\n",
       "       0.82227, 0.82177, 0.82237, 0.82077, 0.81957, 0.81967, 0.82347,\n",
       "       0.82427, 0.82567, 0.82447, 0.82227, 0.82277, 0.82157, 0.82157,\n",
       "       0.82277, 0.82027, 0.82057, 0.82127])"
      ]
     },
     "execution_count": 14,
     "metadata": {},
     "output_type": "execute_result"
    }
   ],
   "source": [
    "train_X[10]"
   ]
  },
  {
   "cell_type": "code",
   "execution_count": 15,
   "metadata": {},
   "outputs": [
    {
     "data": {
      "text/plain": [
       "array([0.82567, 0.82447, 0.82227, 0.82277, 0.82157, 0.82157, 0.82277,\n",
       "       0.82027, 0.82057, 0.82127])"
      ]
     },
     "execution_count": 15,
     "metadata": {},
     "output_type": "execute_result"
    }
   ],
   "source": [
    "train_Y[0]"
   ]
  },
  {
   "cell_type": "code",
   "execution_count": 16,
   "metadata": {},
   "outputs": [],
   "source": [
    "\n",
    "def sampling_1target(n_steps):\n",
    "    import pandas as pd\n",
    "    import numpy as np\n",
    "    data = pd.read_csv('/home/ujwal/ML_program/Trading_financial_market/Predicting_AUDUSD_Using_Major_Regression_Models/AUDUSD_Candlestick_1_Hour_BID_03.09.2007-01.10.2022.csv')\n",
    "    data.set_index('Gmt time')\n",
    "    data = data.drop({'Open', 'High', 'Low','Volume'}, axis=1)\n",
    "    train, temp = data[:92534], data[92534:] \n",
    "    val, test = temp[:19828], temp[19828:] \n",
    "    def sample(sequence):\n",
    "        X, Y = list(), list()\n",
    "\n",
    "        for i in range(len(sequence)):\n",
    "            \n",
    "            sam = i + n_steps\n",
    "            if sam > len(sequence)-1:\n",
    "                break\n",
    "            x, y = sequence[i:sam], sequence[sam]\n",
    "            X.append(x)\n",
    "            Y.append(y)\n",
    "        return np.array(X), np.array(Y)   \n",
    "    train_X, train_Y = sample(train['Close'].tolist())\n",
    "    val_X, val_Y = sample(val['Close'].tolist())\n",
    "    test_X, test_Y = sample(test['Close'].tolist())\n",
    "    return train_X, train_Y, val_X, val_Y, test_X, test_Y\n"
   ]
  },
  {
   "cell_type": "code",
   "execution_count": 17,
   "metadata": {},
   "outputs": [],
   "source": [
    "n_steps = 60\n",
    "\n",
    "train_X, train_Y, val_X, val_Y, test_X, test_Y,  = sampling_1target(n_steps)"
   ]
  },
  {
   "cell_type": "code",
   "execution_count": 18,
   "metadata": {},
   "outputs": [
    {
     "data": {
      "text/plain": [
       "array([0.82157, 0.82237, 0.82267, 0.82327, 0.82157, 0.82217, 0.82237,\n",
       "       0.82137, 0.82137, 0.82157, 0.81957, 0.82017, 0.82047, 0.82077,\n",
       "       0.82087, 0.82117, 0.82287, 0.82257, 0.82117, 0.82037, 0.82067,\n",
       "       0.82487, 0.82397, 0.82447, 0.82457, 0.82667, 0.82647, 0.82357,\n",
       "       0.82487, 0.82467, 0.82287, 0.82417, 0.82357, 0.82547, 0.82437,\n",
       "       0.82407, 0.82267, 0.82187, 0.82357, 0.82387, 0.82447, 0.82447,\n",
       "       0.82547, 0.82797, 0.82737, 0.82727, 0.82437, 0.82497, 0.82377,\n",
       "       0.82377, 0.82237, 0.81907, 0.82227, 0.82177, 0.82237, 0.82077,\n",
       "       0.81957, 0.81967, 0.82347, 0.82427])"
      ]
     },
     "execution_count": 18,
     "metadata": {},
     "output_type": "execute_result"
    }
   ],
   "source": [
    "train_X[0]"
   ]
  },
  {
   "cell_type": "code",
   "execution_count": 19,
   "metadata": {},
   "outputs": [
    {
     "data": {
      "text/plain": [
       "array([0.82237, 0.82267, 0.82327, 0.82157, 0.82217, 0.82237, 0.82137,\n",
       "       0.82137, 0.82157, 0.81957, 0.82017, 0.82047, 0.82077, 0.82087,\n",
       "       0.82117, 0.82287, 0.82257, 0.82117, 0.82037, 0.82067, 0.82487,\n",
       "       0.82397, 0.82447, 0.82457, 0.82667, 0.82647, 0.82357, 0.82487,\n",
       "       0.82467, 0.82287, 0.82417, 0.82357, 0.82547, 0.82437, 0.82407,\n",
       "       0.82267, 0.82187, 0.82357, 0.82387, 0.82447, 0.82447, 0.82547,\n",
       "       0.82797, 0.82737, 0.82727, 0.82437, 0.82497, 0.82377, 0.82377,\n",
       "       0.82237, 0.81907, 0.82227, 0.82177, 0.82237, 0.82077, 0.81957,\n",
       "       0.81967, 0.82347, 0.82427, 0.82567])"
      ]
     },
     "execution_count": 19,
     "metadata": {},
     "output_type": "execute_result"
    }
   ],
   "source": [
    "train_X[1]"
   ]
  },
  {
   "cell_type": "code",
   "execution_count": 20,
   "metadata": {},
   "outputs": [
    {
     "data": {
      "text/plain": [
       "0.82567"
      ]
     },
     "execution_count": 20,
     "metadata": {},
     "output_type": "execute_result"
    }
   ],
   "source": [
    "train_Y[0]"
   ]
  },
  {
   "cell_type": "code",
   "execution_count": 21,
   "metadata": {},
   "outputs": [],
   "source": [
    "# import numpy as np\n",
    "\n",
    "# def sampling_1target(sequence, n_steps):\n",
    "\n",
    "#     X, Y = list(), list()\n",
    "    \n",
    "#     for i in range(len(sequence)):\n",
    "        \n",
    "#         sam = i + n_steps\n",
    "#         if sam > len(sequence)-1:\n",
    "#             break\n",
    "#         x, y = sequence[i:sam], sequence[sam]\n",
    "#         X.append(x)\n",
    "#         Y.append(y)\n",
    "#     return np.array(X), np.array(Y)\n",
    "\n",
    "# n_steps = 60\n",
    "\n",
    "# train_X, train_Y = sampling_1target(train['Close'].tolist(), n_steps)\n",
    "# val_X, val_Y = sampling_1target(val['Close'].tolist(), n_steps)\n",
    "# test_X, test_Y = sampling_1target(test['Close'].tolist(), n_steps)\n",
    "\n"
   ]
  },
  {
   "cell_type": "code",
   "execution_count": 22,
   "metadata": {},
   "outputs": [],
   "source": [
    "# import numpy as np\n",
    "\n",
    "# def sampling_multi_target(sequence, n_steps_back, n_steps_future):\n",
    "\n",
    "#     X, Y = list(), list()\n",
    "    \n",
    "#     for i in range(len(sequence)):\n",
    "        \n",
    "#         sam = i + n_steps_back\n",
    "#         fut = sam + n_steps_future\n",
    "#         if fut > len(sequence)-1:\n",
    "#             break\n",
    "#         x, y = sequence[i:sam], sequence[sam:fut]\n",
    "#         X.append(x)\n",
    "#         Y.append(y)\n",
    "#     return np.array(X), np.array(Y)\n",
    "\n",
    "# n_steps_back = 60\n",
    "# n_steps_future=10\n",
    "\n",
    "# train_X, train_Y = sampling_multi_target(train['Close'].tolist(), n_steps_back, n_steps_future)\n",
    "# val_X, val_Y = sampling_multi_target(val['Close'].tolist(), n_steps_back, n_steps_future)\n",
    "# test_X, test_Y = sampling_multi_target(test['Close'].tolist(), n_steps_back, n_steps_future)\n"
   ]
  },
  {
   "cell_type": "code",
   "execution_count": null,
   "metadata": {},
   "outputs": [],
   "source": [
    "# import pandas as pd\n",
    "# import yfinance as yf\n",
    "# from yahoofinancials import YahooFinancials"
   ]
  },
  {
   "cell_type": "code",
   "execution_count": null,
   "metadata": {},
   "outputs": [],
   "source": [
    "# yahoo_financials = YahooFinancials('GOOG')\n",
    "# data = yahoo_financials.get_historical_price_data(start_date='2000-01-1', \n",
    "#                                                   end_date='2022-12-05', \n",
    "#                                                   time_interval='daily')\n",
    "# goog_df = pd.DataFrame(data['GOOG']['prices'])\n",
    "# goog_df = goog_df.drop('date', axis=1).set_index('formatted_date')\n",
    "# df = goog_df.drop({'adjclose'}, axis=1)\n",
    "# df.rename(columns={'high': 'High', 'low': 'Low','open': 'Open', 'close': 'Close','volume': 'Volume' }, inplace=True)\n",
    "# df_save = df.to_csv('GOOG.csv')\n",
    "# df"
   ]
  }
 ],
 "metadata": {
  "kernelspec": {
   "display_name": "Python 3.9.12 ('base')",
   "language": "python",
   "name": "python3"
  },
  "language_info": {
   "codemirror_mode": {
    "name": "ipython",
    "version": 3
   },
   "file_extension": ".py",
   "mimetype": "text/x-python",
   "name": "python",
   "nbconvert_exporter": "python",
   "pygments_lexer": "ipython3",
   "version": "3.9.12"
  },
  "orig_nbformat": 4,
  "vscode": {
   "interpreter": {
    "hash": "66a19ea5f20bc52e6cb3c92a7c78abc463452fe56590fefcffb22eb4ed19e131"
   }
  }
 },
 "nbformat": 4,
 "nbformat_minor": 2
}
