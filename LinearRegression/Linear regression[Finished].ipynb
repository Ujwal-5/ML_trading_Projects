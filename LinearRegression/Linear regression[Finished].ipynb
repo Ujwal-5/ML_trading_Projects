{
 "cells": [
  {
   "cell_type": "code",
   "execution_count": 25,
   "metadata": {},
   "outputs": [],
   "source": [
    "import pandas as pd\n",
    "import numpy as np\n",
    "import time\n",
    "from sklearn.linear_model import LinearRegression\n",
    "from sklearn.model_selection import RepeatedKFold\n",
    "from sklearn.model_selection import RandomizedSearchCV\n",
    "from sklearn import preprocessing\n",
    "import ray\n",
    "import matplotlib as plt\n",
    "from matplotlib import pyplot\n",
    "import seaborn as sns\n",
    "import pickle\n",
    "import numpy as np \n",
    "import pandas as pd \n",
    "from sklearn import preprocessing\n",
    "from sklearn.model_selection import train_test_split\n",
    "from sklearn import linear_model\n",
    "\n",
    "%matplotlib inline"
   ]
  },
  {
   "cell_type": "code",
   "execution_count": 26,
   "metadata": {},
   "outputs": [
    {
     "data": {
      "text/html": [
       "<div>\n",
       "<style scoped>\n",
       "    .dataframe tbody tr th:only-of-type {\n",
       "        vertical-align: middle;\n",
       "    }\n",
       "\n",
       "    .dataframe tbody tr th {\n",
       "        vertical-align: top;\n",
       "    }\n",
       "\n",
       "    .dataframe thead th {\n",
       "        text-align: right;\n",
       "    }\n",
       "</style>\n",
       "<table border=\"1\" class=\"dataframe\">\n",
       "  <thead>\n",
       "    <tr style=\"text-align: right;\">\n",
       "      <th></th>\n",
       "      <th>Gmt time</th>\n",
       "      <th>Open</th>\n",
       "      <th>High</th>\n",
       "      <th>Low</th>\n",
       "      <th>Close</th>\n",
       "      <th>Volume</th>\n",
       "    </tr>\n",
       "  </thead>\n",
       "  <tbody>\n",
       "    <tr>\n",
       "      <th>0</th>\n",
       "      <td>03.09.2007 00:00:00.000</td>\n",
       "      <td>0.82127</td>\n",
       "      <td>0.82207</td>\n",
       "      <td>0.82057</td>\n",
       "      <td>0.82157</td>\n",
       "      <td>184.95</td>\n",
       "    </tr>\n",
       "    <tr>\n",
       "      <th>1</th>\n",
       "      <td>03.09.2007 01:00:00.000</td>\n",
       "      <td>0.82147</td>\n",
       "      <td>0.82287</td>\n",
       "      <td>0.82097</td>\n",
       "      <td>0.82237</td>\n",
       "      <td>310.37</td>\n",
       "    </tr>\n",
       "    <tr>\n",
       "      <th>2</th>\n",
       "      <td>03.09.2007 02:00:00.000</td>\n",
       "      <td>0.82227</td>\n",
       "      <td>0.82367</td>\n",
       "      <td>0.82187</td>\n",
       "      <td>0.82267</td>\n",
       "      <td>419.97</td>\n",
       "    </tr>\n",
       "    <tr>\n",
       "      <th>3</th>\n",
       "      <td>03.09.2007 03:00:00.000</td>\n",
       "      <td>0.82287</td>\n",
       "      <td>0.82387</td>\n",
       "      <td>0.82157</td>\n",
       "      <td>0.82327</td>\n",
       "      <td>367.18</td>\n",
       "    </tr>\n",
       "    <tr>\n",
       "      <th>4</th>\n",
       "      <td>03.09.2007 04:00:00.000</td>\n",
       "      <td>0.82337</td>\n",
       "      <td>0.82387</td>\n",
       "      <td>0.82127</td>\n",
       "      <td>0.82157</td>\n",
       "      <td>257.45</td>\n",
       "    </tr>\n",
       "    <tr>\n",
       "      <th>...</th>\n",
       "      <td>...</td>\n",
       "      <td>...</td>\n",
       "      <td>...</td>\n",
       "      <td>...</td>\n",
       "      <td>...</td>\n",
       "      <td>...</td>\n",
       "    </tr>\n",
       "    <tr>\n",
       "      <th>132187</th>\n",
       "      <td>01.10.2022 19:00:00.000</td>\n",
       "      <td>0.64023</td>\n",
       "      <td>0.64023</td>\n",
       "      <td>0.64023</td>\n",
       "      <td>0.64023</td>\n",
       "      <td>0.00</td>\n",
       "    </tr>\n",
       "    <tr>\n",
       "      <th>132188</th>\n",
       "      <td>01.10.2022 20:00:00.000</td>\n",
       "      <td>0.64023</td>\n",
       "      <td>0.64023</td>\n",
       "      <td>0.64023</td>\n",
       "      <td>0.64023</td>\n",
       "      <td>0.00</td>\n",
       "    </tr>\n",
       "    <tr>\n",
       "      <th>132189</th>\n",
       "      <td>01.10.2022 21:00:00.000</td>\n",
       "      <td>0.64023</td>\n",
       "      <td>0.64023</td>\n",
       "      <td>0.64023</td>\n",
       "      <td>0.64023</td>\n",
       "      <td>0.00</td>\n",
       "    </tr>\n",
       "    <tr>\n",
       "      <th>132190</th>\n",
       "      <td>01.10.2022 22:00:00.000</td>\n",
       "      <td>0.64023</td>\n",
       "      <td>0.64023</td>\n",
       "      <td>0.64023</td>\n",
       "      <td>0.64023</td>\n",
       "      <td>0.00</td>\n",
       "    </tr>\n",
       "    <tr>\n",
       "      <th>132191</th>\n",
       "      <td>01.10.2022 23:00:00.000</td>\n",
       "      <td>0.64023</td>\n",
       "      <td>0.64023</td>\n",
       "      <td>0.64023</td>\n",
       "      <td>0.64023</td>\n",
       "      <td>0.00</td>\n",
       "    </tr>\n",
       "  </tbody>\n",
       "</table>\n",
       "<p>132192 rows × 6 columns</p>\n",
       "</div>"
      ],
      "text/plain": [
       "                       Gmt time     Open     High      Low    Close  Volume\n",
       "0       03.09.2007 00:00:00.000  0.82127  0.82207  0.82057  0.82157  184.95\n",
       "1       03.09.2007 01:00:00.000  0.82147  0.82287  0.82097  0.82237  310.37\n",
       "2       03.09.2007 02:00:00.000  0.82227  0.82367  0.82187  0.82267  419.97\n",
       "3       03.09.2007 03:00:00.000  0.82287  0.82387  0.82157  0.82327  367.18\n",
       "4       03.09.2007 04:00:00.000  0.82337  0.82387  0.82127  0.82157  257.45\n",
       "...                         ...      ...      ...      ...      ...     ...\n",
       "132187  01.10.2022 19:00:00.000  0.64023  0.64023  0.64023  0.64023    0.00\n",
       "132188  01.10.2022 20:00:00.000  0.64023  0.64023  0.64023  0.64023    0.00\n",
       "132189  01.10.2022 21:00:00.000  0.64023  0.64023  0.64023  0.64023    0.00\n",
       "132190  01.10.2022 22:00:00.000  0.64023  0.64023  0.64023  0.64023    0.00\n",
       "132191  01.10.2022 23:00:00.000  0.64023  0.64023  0.64023  0.64023    0.00\n",
       "\n",
       "[132192 rows x 6 columns]"
      ]
     },
     "execution_count": 26,
     "metadata": {},
     "output_type": "execute_result"
    }
   ],
   "source": [
    "# Read AUDUSD data file\n",
    "raw_data = pd.read_csv(\"/home/ujwal/ML_program/Trading_financial_market/Algo-trading-with-ML/algo stratergy 1/AUDUSD_Candlestick_1_Hour_BID_03.09.2007-01.10.2022.csv\")\n",
    "raw_data"
   ]
  },
  {
   "cell_type": "code",
   "execution_count": 27,
   "metadata": {},
   "outputs": [
    {
     "data": {
      "text/html": [
       "<div>\n",
       "<style scoped>\n",
       "    .dataframe tbody tr th:only-of-type {\n",
       "        vertical-align: middle;\n",
       "    }\n",
       "\n",
       "    .dataframe tbody tr th {\n",
       "        vertical-align: top;\n",
       "    }\n",
       "\n",
       "    .dataframe thead th {\n",
       "        text-align: right;\n",
       "    }\n",
       "</style>\n",
       "<table border=\"1\" class=\"dataframe\">\n",
       "  <thead>\n",
       "    <tr style=\"text-align: right;\">\n",
       "      <th></th>\n",
       "      <th>Close</th>\n",
       "    </tr>\n",
       "    <tr>\n",
       "      <th>Gmt time</th>\n",
       "      <th></th>\n",
       "    </tr>\n",
       "  </thead>\n",
       "  <tbody>\n",
       "    <tr>\n",
       "      <th>03.09.2007 00:00:00.000</th>\n",
       "      <td>0.82157</td>\n",
       "    </tr>\n",
       "    <tr>\n",
       "      <th>03.09.2007 01:00:00.000</th>\n",
       "      <td>0.82237</td>\n",
       "    </tr>\n",
       "    <tr>\n",
       "      <th>03.09.2007 02:00:00.000</th>\n",
       "      <td>0.82267</td>\n",
       "    </tr>\n",
       "    <tr>\n",
       "      <th>03.09.2007 03:00:00.000</th>\n",
       "      <td>0.82327</td>\n",
       "    </tr>\n",
       "    <tr>\n",
       "      <th>03.09.2007 04:00:00.000</th>\n",
       "      <td>0.82157</td>\n",
       "    </tr>\n",
       "    <tr>\n",
       "      <th>...</th>\n",
       "      <td>...</td>\n",
       "    </tr>\n",
       "    <tr>\n",
       "      <th>01.10.2022 19:00:00.000</th>\n",
       "      <td>0.64023</td>\n",
       "    </tr>\n",
       "    <tr>\n",
       "      <th>01.10.2022 20:00:00.000</th>\n",
       "      <td>0.64023</td>\n",
       "    </tr>\n",
       "    <tr>\n",
       "      <th>01.10.2022 21:00:00.000</th>\n",
       "      <td>0.64023</td>\n",
       "    </tr>\n",
       "    <tr>\n",
       "      <th>01.10.2022 22:00:00.000</th>\n",
       "      <td>0.64023</td>\n",
       "    </tr>\n",
       "    <tr>\n",
       "      <th>01.10.2022 23:00:00.000</th>\n",
       "      <td>0.64023</td>\n",
       "    </tr>\n",
       "  </tbody>\n",
       "</table>\n",
       "<p>132192 rows × 1 columns</p>\n",
       "</div>"
      ],
      "text/plain": [
       "                           Close\n",
       "Gmt time                        \n",
       "03.09.2007 00:00:00.000  0.82157\n",
       "03.09.2007 01:00:00.000  0.82237\n",
       "03.09.2007 02:00:00.000  0.82267\n",
       "03.09.2007 03:00:00.000  0.82327\n",
       "03.09.2007 04:00:00.000  0.82157\n",
       "...                          ...\n",
       "01.10.2022 19:00:00.000  0.64023\n",
       "01.10.2022 20:00:00.000  0.64023\n",
       "01.10.2022 21:00:00.000  0.64023\n",
       "01.10.2022 22:00:00.000  0.64023\n",
       "01.10.2022 23:00:00.000  0.64023\n",
       "\n",
       "[132192 rows x 1 columns]"
      ]
     },
     "execution_count": 27,
     "metadata": {},
     "output_type": "execute_result"
    }
   ],
   "source": [
    "# drop everything except Time and Close information\n",
    "from bleach import clean\n",
    "from matplotlib.pyplot import plot\n",
    "\n",
    "\n",
    "clean_data = raw_data.drop([\"High\", \"Open\", \"Low\", \"Volume\"], axis=1)\n",
    "df = clean_data.set_index('Gmt time')\n",
    "df\n",
    "#plot()"
   ]
  },
  {
   "cell_type": "code",
   "execution_count": 28,
   "metadata": {},
   "outputs": [
    {
     "data": {
      "text/plain": [
       "<AxesSubplot:xlabel='Gmt time'>"
      ]
     },
     "execution_count": 28,
     "metadata": {},
     "output_type": "execute_result"
    },
    {
     "data": {
      "image/png": "[encoded data removed]",
      "text/plain": [
       "<Figure size 432x288 with 1 Axes>"
      ]
     },
     "metadata": {
      "needs_background": "light"
     },
     "output_type": "display_data"
    }
   ],
   "source": [
    "df.plot()"
   ]
  },
  {
   "cell_type": "code",
   "execution_count": 29,
   "metadata": {},
   "outputs": [
    {
     "name": "stdout",
     "output_type": "stream",
     "text": [
      "number of inf value present = 0\n",
      "number of nan value present = Close    0\n",
      "dtype: int64\n"
     ]
    }
   ],
   "source": [
    "sum_inf = np.isinf(df).values.sum()\n",
    "sum_nan = df.isna().sum()\n",
    "print(\"number of inf value present =\", sum_inf)\n",
    "print(\"number of nan value present =\", sum_nan)"
   ]
  },
  {
   "cell_type": "code",
   "execution_count": 30,
   "metadata": {},
   "outputs": [],
   "source": [
    "\n",
    "def prepare_data(df,forecast_col,forecast_out,test_size):\n",
    "    label = df[forecast_col].shift(-forecast_out);#creating new column called label with the last 5 rows are nan\n",
    "    X = np.array(df[[forecast_col]]); #creating the feature array\n",
    "    X = preprocessing.scale(X) #processing the feature array\n",
    "    X_lately = X[-forecast_out:] #creating the column i want to use later in the predicting method\n",
    "    X = X[:-forecast_out] # X that will contain the training and testing\n",
    "    label.dropna(inplace=True); #dropping na values\n",
    "    y = np.array(label)  # assigning Y\n",
    "    X_train, X_test, Y_train, Y_test = train_test_split(X, y, test_size=test_size) #cross validation \n",
    "\n",
    "    dataset = [X_train,X_test , Y_train, Y_test , X_lately];\n",
    "    return dataset;\n",
    "\n"
   ]
  },
  {
   "cell_type": "code",
   "execution_count": 31,
   "metadata": {},
   "outputs": [],
   "source": [
    "forecast_col = 'Close'#choosing which column to forecast\n",
    "forecast_out = 10 #how far to forecast \n",
    "test_size = 0.2; #the size of my test set\n",
    "\n",
    "X_train, X_test, Y_train, Y_test , X_lately =prepare_data(df,forecast_col,forecast_out,test_size); #calling the method were the cross validation and data preperation is in\n"
   ]
  },
  {
   "cell_type": "code",
   "execution_count": 32,
   "metadata": {},
   "outputs": [
    {
     "name": "stdout",
     "output_type": "stream",
     "text": [
      "132192\n",
      "train= 89883.25\n",
      "val= 15861.75\n"
     ]
    }
   ],
   "source": [
    "print(len(df))\n",
    "print(\"train=\",len(X_train)*0.85)\n",
    "print(\"val=\", len(X_train)*0.15)"
   ]
  },
  {
   "cell_type": "code",
   "execution_count": 33,
   "metadata": {},
   "outputs": [
    {
     "name": "stdout",
     "output_type": "stream",
     "text": [
      "89883 15862\n",
      "89883 15862\n"
     ]
    }
   ],
   "source": [
    "# Split dataset to train, val, test as 70%-15%-15%\n",
    "X_train1, X_val = X_train[:89883], X_train[89883:] \n",
    "Y_train1, Y_val = Y_train[:89883], Y_train[89883:] \n",
    "print(len(X_train1), len(X_val))\n",
    "print(len(Y_train1), len(Y_val))"
   ]
  },
  {
   "cell_type": "code",
   "execution_count": 34,
   "metadata": {},
   "outputs": [],
   "source": [
    "# Initialize the algorithm\n",
    "model = LinearRegression()"
   ]
  },
  {
   "cell_type": "code",
   "execution_count": 35,
   "metadata": {},
   "outputs": [
    {
     "name": "stderr",
     "output_type": "stream",
     "text": [
      "/home/ujwal/anaconda3/lib/python3.9/site-packages/sklearn/model_selection/_search.py:292: UserWarning: The total space of parameters 8 is smaller than n_iter=500. Running 8 iterations. For exhaustive searches, use GridSearchCV.\n",
      "  warnings.warn(\n"
     ]
    },
    {
     "name": "stdout",
     "output_type": "stream",
     "text": [
      "Best Score: -0.002153569590152234\n",
      "Best Hyperparameters: {'positive': True, 'fit_intercept': True, 'copy_X': True}\n"
     ]
    }
   ],
   "source": [
    "# Just for fun doing hypter-parameter tuning\n",
    "cv = RepeatedKFold(n_splits=10, n_repeats=3, random_state=1)\n",
    "# define search space\n",
    "space = dict()\n",
    "space['copy_X'] = [True, False]\n",
    "space['positive'] = [True, False]\n",
    "space['fit_intercept'] = [True, False]\n",
    "# define search\n",
    "search = RandomizedSearchCV(model, space, n_iter=500, scoring='neg_mean_absolute_error', n_jobs=-1, cv=cv, random_state=1)\n",
    "# execute search\n",
    "result = search.fit(X_val, Y_val)\n",
    "# summarize result\n",
    "print('Best Score: %s' % result.best_score_)\n",
    "print('Best Hyperparameters: %s' % result.best_params_)"
   ]
  },
  {
   "cell_type": "code",
   "execution_count": 54,
   "metadata": {},
   "outputs": [
    {
     "data": {
      "text/plain": [
       "LinearRegression()"
      ]
     },
     "execution_count": 54,
     "metadata": {},
     "output_type": "execute_result"
    }
   ],
   "source": [
    "# Train the algorithm\n",
    "model = LinearRegression()\n",
    "model.fit(X_train,Y_train)"
   ]
  },
  {
   "cell_type": "code",
   "execution_count": 55,
   "metadata": {},
   "outputs": [
    {
     "data": {
      "text/plain": [
       "array([0.12438492])"
      ]
     },
     "execution_count": 55,
     "metadata": {},
     "output_type": "execute_result"
    }
   ],
   "source": [
    "model.coef_"
   ]
  },
  {
   "cell_type": "code",
   "execution_count": 56,
   "metadata": {},
   "outputs": [],
   "source": [
    "predictions = model.predict(X_test)"
   ]
  },
  {
   "cell_type": "code",
   "execution_count": 57,
   "metadata": {},
   "outputs": [
    {
     "data": {
      "text/plain": [
       "Text(0, 0.5, 'Predicted Y')"
      ]
     },
     "execution_count": 57,
     "metadata": {},
     "output_type": "execute_result"
    },
    {
     "data": {
      "image/png": "[encoded data removed]",
      "text/plain": [
       "<Figure size 432x288 with 1 Axes>"
      ]
     },
     "metadata": {
      "needs_background": "light"
     },
     "output_type": "display_data"
    }
   ],
   "source": [
    "import matplotlib.pyplot as plt\n",
    "plt.scatter(Y_test,predictions)\n",
    "plt.xlabel('test_Y')\n",
    "plt.ylabel('Predicted Y')"
   ]
  },
  {
   "cell_type": "code",
   "execution_count": 58,
   "metadata": {},
   "outputs": [
    {
     "name": "stdout",
     "output_type": "stream",
     "text": [
      "MAE :   0.002128811450452542\n",
      "MSE :   1.2347963013652272e-05\n",
      "RMAE :   0.0035139668486843002\n"
     ]
    }
   ],
   "source": [
    "# Check mse using Linear regression\n",
    "from sklearn import metrics\n",
    "print('MAE :',\" \", metrics.mean_absolute_error(Y_test,predictions))\n",
    "print('MSE :',\" \", metrics.mean_squared_error(Y_test,predictions))\n",
    "print('RMAE :',\" \", np.sqrt(metrics.mean_squared_error(Y_test,predictions)))"
   ]
  },
  {
   "cell_type": "code",
   "execution_count": 41,
   "metadata": {},
   "outputs": [
    {
     "name": "stderr",
     "output_type": "stream",
     "text": [
      "/home/ujwal/anaconda3/lib/python3.9/site-packages/seaborn/distributions.py:2619: FutureWarning: `distplot` is a deprecated function and will be removed in a future version. Please adapt your code to use either `displot` (a figure-level function with similar flexibility) or `histplot` (an axes-level function for histograms).\n",
      "  warnings.warn(msg, FutureWarning)\n"
     ]
    },
    {
     "data": {
      "text/plain": [
       "<AxesSubplot:ylabel='Density'>"
      ]
     },
     "execution_count": 41,
     "metadata": {},
     "output_type": "execute_result"
    },
    {
     "data": {
      "image/png": "[encoded data removed]",
      "text/plain": [
       "<Figure size 432x288 with 1 Axes>"
      ]
     },
     "metadata": {
      "needs_background": "light"
     },
     "output_type": "display_data"
    }
   ],
   "source": [
    "sns.distplot(Y_test - predictions,bins=50)"
   ]
  },
  {
   "cell_type": "code",
   "execution_count": 42,
   "metadata": {},
   "outputs": [],
   "source": [
    "# save model using pickle\n",
    "pickle.dump(model, open('model.pkl', 'wb'))"
   ]
  },
  {
   "cell_type": "code",
   "execution_count": 43,
   "metadata": {},
   "outputs": [],
   "source": [
    "# loading model\n",
    "pickled_model = pickle.load(open('model.pkl', 'rb'))"
   ]
  },
  {
   "cell_type": "code",
   "execution_count": 44,
   "metadata": {},
   "outputs": [
    {
     "name": "stdout",
     "output_type": "stream",
     "text": [
      "[-0.18604237 -0.18604237 -0.18604237 -0.18604237 -0.18604237 -0.18604237\n",
      " -0.18604237 -0.18604237 -0.18604237 -0.18604237]\n"
     ]
    }
   ],
   "source": [
    "# Predicting future 10 value\n",
    "forecast= pickled_model.predict(X_lately); #set that will contain the forecasted data\n",
    "\n",
    "print(forecast)"
   ]
  },
  {
   "cell_type": "code",
   "execution_count": null,
   "metadata": {},
   "outputs": [],
   "source": []
  },
  {
   "cell_type": "code",
   "execution_count": null,
   "metadata": {},
   "outputs": [],
   "source": []
  },
  {
   "cell_type": "code",
   "execution_count": 45,
   "metadata": {},
   "outputs": [],
   "source": [
    "# # demonstrate prediction for next 10 days\n",
    "\n",
    "# x_input = test_x[:1,:20]\n",
    "# temp_input=list(x_input)\n",
    "# n_features = 1\n",
    "# lst_output=[]\n",
    "# n_steps = 20\n",
    "# i=0\n",
    "# while(i<10):\n",
    "    \n",
    "#     if(len(temp_input)>3):\n",
    "#         x_input=array(temp_input[1:])\n",
    "#         print(\"{} day input {}\".format(i,x_input))\n",
    "#         #print(x_input)\n",
    "#         x_input = x_input.reshape((1, n_steps, n_features))\n",
    "#         #print(x_input)\n",
    "#         yhat = model.predict(x_input, verbose=0)\n",
    "#         print(\"{} day output {}\".format(i,yhat))\n",
    "#         temp_input.append(yhat[0][0])\n",
    "#         temp_input=temp_input[1:]\n",
    "#         #print(temp_input)\n",
    "#         lst_output.append(yhat[0][0])\n",
    "#         i=i+1\n",
    "#     #else:\n",
    "#         #x_input = x_input.reshape(1, n_steps)\n",
    "#         #yhat = model.predict(x_input)\n",
    "#         #print(yhat[0])\n",
    "#         #temp_input.append(yhat[0][0])\n",
    "#         #lst_output.append(yhat[0][0])\n",
    "#         #i=i+1\n",
    "\n",
    "# print(lst_output)"
   ]
  }
 ],
 "metadata": {
  "kernelspec": {
   "display_name": "Python 3.9.12 ('base')",
   "language": "python",
   "name": "python3"
  },
  "language_info": {
   "codemirror_mode": {
    "name": "ipython",
    "version": 3
   },
   "file_extension": ".py",
   "mimetype": "text/x-python",
   "name": "python",
   "nbconvert_exporter": "python",
   "pygments_lexer": "ipython3",
   "version": "3.9.12"
  },
  "orig_nbformat": 4,
  "vscode": {
   "interpreter": {
    "hash": "66a19ea5f20bc52e6cb3c92a7c78abc463452fe56590fefcffb22eb4ed19e131"
   }
  }
 },
 "nbformat": 4,
 "nbformat_minor": 2
}
