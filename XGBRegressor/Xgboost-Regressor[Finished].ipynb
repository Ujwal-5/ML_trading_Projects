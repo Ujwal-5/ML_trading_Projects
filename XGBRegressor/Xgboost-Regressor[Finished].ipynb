{
 "cells": [
  {
   "cell_type": "code",
   "execution_count": 1,
   "metadata": {},
   "outputs": [],
   "source": [
    "import numpy as np\n",
    "import matplotlib.pyplot as plt\n",
    "import seaborn as sns\n",
    "from xgboost import XGBRegressor\n",
    "from sklearn.metrics import mean_absolute_error "
   ]
  },
  {
   "cell_type": "code",
   "execution_count": 2,
   "metadata": {},
   "outputs": [],
   "source": [
    "sys.path.insert(1, '/home/ujwal/ML_program/Trading_financial_market/Predicting_AUDUSD_Using_Major_Regression_Models')\n",
    "from ipynb.fs.defs.Data_preprocessing import sampling_multi_target\n"
   ]
  },
  {
   "cell_type": "code",
   "execution_count": 3,
   "metadata": {},
   "outputs": [],
   "source": [
    "n_steps_back = 60\n",
    "n_steps_future=10\n",
    "\n",
    "train_X, train_Y, val_X, val_Y, test_X, test_Y,  = sampling_multi_target(n_steps_back, n_steps_future)"
   ]
  },
  {
   "cell_type": "code",
   "execution_count": 4,
   "metadata": {},
   "outputs": [
    {
     "data": {
      "text/plain": [
       "(92464, 60)"
      ]
     },
     "execution_count": 4,
     "metadata": {},
     "output_type": "execute_result"
    }
   ],
   "source": [
    "train_X.shape"
   ]
  },
  {
   "cell_type": "code",
   "execution_count": 5,
   "metadata": {},
   "outputs": [
    {
     "data": {
      "text/plain": [
       "(92464, 10)"
      ]
     },
     "execution_count": 5,
     "metadata": {},
     "output_type": "execute_result"
    }
   ],
   "source": [
    "train_Y.shape"
   ]
  },
  {
   "cell_type": "code",
   "execution_count": 16,
   "metadata": {},
   "outputs": [
    {
     "name": "stdout",
     "output_type": "stream",
     "text": [
      "[0]\tvalidation_0-rmse:0.14246\n",
      "[1]\tvalidation_0-rmse:0.09965\n",
      "[2]\tvalidation_0-rmse:0.06976\n",
      "[3]\tvalidation_0-rmse:0.04882\n",
      "[4]\tvalidation_0-rmse:0.03421\n",
      "[5]\tvalidation_0-rmse:0.02402\n",
      "[6]\tvalidation_0-rmse:0.01696\n",
      "[7]\tvalidation_0-rmse:0.01217\n",
      "[8]\tvalidation_0-rmse:0.00900\n",
      "[9]\tvalidation_0-rmse:0.00699\n",
      "[10]\tvalidation_0-rmse:0.00584\n",
      "[11]\tvalidation_0-rmse:0.00529\n",
      "[12]\tvalidation_0-rmse:0.00504\n",
      "[13]\tvalidation_0-rmse:0.00497\n",
      "[14]\tvalidation_0-rmse:0.00496\n",
      "[15]\tvalidation_0-rmse:0.00501\n",
      "[16]\tvalidation_0-rmse:0.00509\n",
      "[17]\tvalidation_0-rmse:0.00508\n",
      "[18]\tvalidation_0-rmse:0.00512\n",
      "[19]\tvalidation_0-rmse:0.00520\n",
      "[20]\tvalidation_0-rmse:0.00523\n",
      "[21]\tvalidation_0-rmse:0.00526\n",
      "[22]\tvalidation_0-rmse:0.00526\n",
      "[23]\tvalidation_0-rmse:0.00529\n",
      "[24]\tvalidation_0-rmse:0.00532\n",
      "[25]\tvalidation_0-rmse:0.00537\n",
      "[26]\tvalidation_0-rmse:0.00537\n",
      "[27]\tvalidation_0-rmse:0.00535\n",
      "[28]\tvalidation_0-rmse:0.00535\n",
      "[29]\tvalidation_0-rmse:0.00537\n",
      "[30]\tvalidation_0-rmse:0.00536\n",
      "[31]\tvalidation_0-rmse:0.00536\n",
      "[32]\tvalidation_0-rmse:0.00536\n",
      "[33]\tvalidation_0-rmse:0.00536\n",
      "[34]\tvalidation_0-rmse:0.00536\n",
      "[35]\tvalidation_0-rmse:0.00537\n",
      "[36]\tvalidation_0-rmse:0.00539\n",
      "[37]\tvalidation_0-rmse:0.00539\n",
      "[38]\tvalidation_0-rmse:0.00540\n",
      "[39]\tvalidation_0-rmse:0.00542\n",
      "[40]\tvalidation_0-rmse:0.00542\n",
      "[41]\tvalidation_0-rmse:0.00542\n",
      "[42]\tvalidation_0-rmse:0.00542\n",
      "[43]\tvalidation_0-rmse:0.00541\n",
      "[44]\tvalidation_0-rmse:0.00541\n",
      "[45]\tvalidation_0-rmse:0.00541\n",
      "[46]\tvalidation_0-rmse:0.00541\n",
      "[47]\tvalidation_0-rmse:0.00541\n",
      "[48]\tvalidation_0-rmse:0.00541\n",
      "[49]\tvalidation_0-rmse:0.00541\n",
      "[50]\tvalidation_0-rmse:0.00541\n",
      "[51]\tvalidation_0-rmse:0.00541\n",
      "[52]\tvalidation_0-rmse:0.00543\n",
      "[53]\tvalidation_0-rmse:0.00543\n",
      "[54]\tvalidation_0-rmse:0.00542\n",
      "[55]\tvalidation_0-rmse:0.00542\n",
      "[56]\tvalidation_0-rmse:0.00543\n",
      "[57]\tvalidation_0-rmse:0.00543\n",
      "[58]\tvalidation_0-rmse:0.00543\n",
      "[59]\tvalidation_0-rmse:0.00543\n",
      "[60]\tvalidation_0-rmse:0.00543\n",
      "[61]\tvalidation_0-rmse:0.00543\n",
      "[62]\tvalidation_0-rmse:0.00543\n",
      "[63]\tvalidation_0-rmse:0.00543\n",
      "[64]\tvalidation_0-rmse:0.00544\n",
      "[65]\tvalidation_0-rmse:0.00544\n",
      "[66]\tvalidation_0-rmse:0.00544\n",
      "[67]\tvalidation_0-rmse:0.00544\n",
      "[68]\tvalidation_0-rmse:0.00544\n",
      "[69]\tvalidation_0-rmse:0.00544\n",
      "[70]\tvalidation_0-rmse:0.00544\n",
      "[71]\tvalidation_0-rmse:0.00544\n",
      "[72]\tvalidation_0-rmse:0.00544\n",
      "[73]\tvalidation_0-rmse:0.00545\n",
      "[74]\tvalidation_0-rmse:0.00545\n",
      "[75]\tvalidation_0-rmse:0.00544\n",
      "[76]\tvalidation_0-rmse:0.00544\n",
      "[77]\tvalidation_0-rmse:0.00545\n",
      "[78]\tvalidation_0-rmse:0.00545\n",
      "[79]\tvalidation_0-rmse:0.00545\n",
      "[80]\tvalidation_0-rmse:0.00546\n",
      "[81]\tvalidation_0-rmse:0.00546\n",
      "[82]\tvalidation_0-rmse:0.00546\n",
      "[83]\tvalidation_0-rmse:0.00545\n",
      "[84]\tvalidation_0-rmse:0.00545\n",
      "[85]\tvalidation_0-rmse:0.00545\n",
      "[86]\tvalidation_0-rmse:0.00546\n",
      "[87]\tvalidation_0-rmse:0.00545\n",
      "[88]\tvalidation_0-rmse:0.00545\n",
      "[89]\tvalidation_0-rmse:0.00545\n",
      "[90]\tvalidation_0-rmse:0.00545\n",
      "[91]\tvalidation_0-rmse:0.00546\n",
      "[92]\tvalidation_0-rmse:0.00546\n",
      "[93]\tvalidation_0-rmse:0.00546\n",
      "[94]\tvalidation_0-rmse:0.00546\n",
      "[95]\tvalidation_0-rmse:0.00546\n",
      "[96]\tvalidation_0-rmse:0.00546\n",
      "[97]\tvalidation_0-rmse:0.00546\n",
      "[98]\tvalidation_0-rmse:0.00546\n",
      "[99]\tvalidation_0-rmse:0.00547\n",
      "0.0014803314235120675 0.0021010588275864215\n"
     ]
    }
   ],
   "source": [
    "# cheking time required for training and its MAE value\n",
    "import numpy as np\n",
    "XGBModel = XGBRegressor(n_jobs=-1)\n",
    "XGBModel.fit(X=train_X, y=train_Y, eval_set=[(val_X,val_Y)])\n",
    "\n",
    "\n",
    "#test data\n",
    "preds = XGBModel.predict(test_X)\n",
    "MAE_t = mean_absolute_error(test_Y, preds)\n",
    "\n",
    "#val data\n",
    "preds_val = XGBModel.predict(val_X)\n",
    "MAE_v = mean_absolute_error(val_Y, preds_val)\n",
    "\n",
    "print(MAE_t, MAE_v)"
   ]
  },
  {
   "cell_type": "code",
   "execution_count": 20,
   "metadata": {},
   "outputs": [
    {
     "name": "stdout",
     "output_type": "stream",
     "text": [
      "Test data\n",
      "MAE= 0.0014803314235120675 \n",
      "\n",
      "Val data\n",
      "MAE= 0.0021010588275864215\n"
     ]
    }
   ],
   "source": [
    "# Unused test dataset\n",
    "print(\"Test data\")\n",
    "print(\"MAE=\", MAE_t, \"\\n\")\n",
    "\n",
    "# val dataset\n",
    "print(\"Val data\")\n",
    "print(\"MAE=\", MAE_v)"
   ]
  },
  {
   "cell_type": "code",
   "execution_count": 27,
   "metadata": {},
   "outputs": [
    {
     "data": {
      "text/plain": [
       "Text(0, 0.5, 'Predicted Y')"
      ]
     },
     "execution_count": 27,
     "metadata": {},
     "output_type": "execute_result"
    },
    {
     "data": {
      "image/png": "[encoded data removed]",
      "text/plain": [
       "<Figure size 432x288 with 1 Axes>"
      ]
     },
     "metadata": {
      "needs_background": "light"
     },
     "output_type": "display_data"
    }
   ],
   "source": [
    "import matplotlib.pyplot as plt\n",
    "plt.scatter(test_Y,preds)\n",
    "plt.xlabel('test_Y')\n",
    "plt.ylabel('Predicted Y')"
   ]
  },
  {
   "cell_type": "code",
   "execution_count": 28,
   "metadata": {},
   "outputs": [
    {
     "name": "stdout",
     "output_type": "stream",
     "text": [
      "MAE :   0.0014803314235120675\n",
      "MSE :   4.6305934850109896e-06\n",
      "RMSE :   0.002151881382653558\n"
     ]
    }
   ],
   "source": [
    "# Check mse using Linear regression\n",
    "from sklearn import metrics\n",
    "print('MAE :',\" \", metrics.mean_absolute_error(test_Y,preds))\n",
    "print('MSE :',\" \", metrics.mean_squared_error(test_Y,preds))\n",
    "print('RMSE :',\" \", np.sqrt(metrics.mean_squared_error(test_Y,preds)))"
   ]
  },
  {
   "cell_type": "code",
   "execution_count": 34,
   "metadata": {},
   "outputs": [
    {
     "data": {
      "text/plain": [
       "<seaborn.axisgrid.FacetGrid at 0x7fed3cb1f3d0>"
      ]
     },
     "execution_count": 34,
     "metadata": {},
     "output_type": "execute_result"
    },
    {
     "data": {
      "image/png": "[encoded data removed]",
      "text/plain": [
       "<Figure size 402.375x360 with 1 Axes>"
      ]
     },
     "metadata": {
      "needs_background": "light"
     },
     "output_type": "display_data"
    }
   ],
   "source": [
    "sns.displot(test_Y - preds, bins=50)"
   ]
  },
  {
   "cell_type": "code",
   "execution_count": 35,
   "metadata": {},
   "outputs": [],
   "source": [
    "# save model using pickle\n",
    "import pickle\n",
    "pickle.dump(XGBModel, open('XGBRegressor.pkl', 'wb'))"
   ]
  },
  {
   "cell_type": "code",
   "execution_count": 36,
   "metadata": {},
   "outputs": [],
   "source": [
    "# loading model\n",
    "import pickle\n",
    "\n",
    "XGBRegressor_model = pickle.load(open('XGBRegressor.pkl', 'rb'))"
   ]
  },
  {
   "cell_type": "code",
   "execution_count": 37,
   "metadata": {},
   "outputs": [
    {
     "data": {
      "text/plain": [
       "array([[0.6400679 , 0.6400936 , 0.640627  , 0.6406724 , 0.641031  ,\n",
       "        0.64029986, 0.6408388 , 0.64058506, 0.641268  , 0.64054114]],\n",
       "      dtype=float32)"
      ]
     },
     "execution_count": 37,
     "metadata": {},
     "output_type": "execute_result"
    }
   ],
   "source": [
    "forecast_data = test_X[-1].reshape(1,-1)\n",
    "forecast = XGBRegressor_model.predict(forecast_data)\n",
    "forecast"
   ]
  },
  {
   "cell_type": "code",
   "execution_count": 38,
   "metadata": {},
   "outputs": [
    {
     "name": "stdout",
     "output_type": "stream",
     "text": [
      "MAE :   0.00043218136978151467\n",
      "MSE :   2.715733288009946e-07\n",
      "RMSE :   0.0005211269795366524\n"
     ]
    }
   ],
   "source": [
    "# Check mse using Linear regression\n",
    "from sklearn import metrics\n",
    "print('MAE :',\" \", metrics.mean_absolute_error(test_Y[-1],forecast[0]))\n",
    "print('MSE :',\" \", metrics.mean_squared_error(test_Y[-1],forecast[0]))\n",
    "print('RMSE :',\" \", np.sqrt(metrics.mean_squared_error(test_Y[-1],forecast[0])))"
   ]
  }
 ],
 "metadata": {
  "kernelspec": {
   "display_name": "Python 3.9.12 ('base')",
   "language": "python",
   "name": "python3"
  },
  "language_info": {
   "codemirror_mode": {
    "name": "ipython",
    "version": 3
   },
   "file_extension": ".py",
   "mimetype": "text/x-python",
   "name": "python",
   "nbconvert_exporter": "python",
   "pygments_lexer": "ipython3",
   "version": "3.9.12"
  },
  "orig_nbformat": 4,
  "vscode": {
   "interpreter": {
    "hash": "66a19ea5f20bc52e6cb3c92a7c78abc463452fe56590fefcffb22eb4ed19e131"
   }
  }
 },
 "nbformat": 4,
 "nbformat_minor": 2
}
