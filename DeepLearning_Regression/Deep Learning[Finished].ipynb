{
 "cells": [
  {
   "cell_type": "code",
   "execution_count": 2,
   "metadata": {},
   "outputs": [
    {
     "name": "stderr",
     "output_type": "stream",
     "text": [
      "2022-12-06 15:05:20.422131: I tensorflow/core/platform/cpu_feature_guard.cc:193] This TensorFlow binary is optimized with oneAPI Deep Neural Network Library (oneDNN) to use the following CPU instructions in performance-critical operations:  AVX2 FMA\n",
      "To enable them in other operations, rebuild TensorFlow with the appropriate compiler flags.\n",
      "2022-12-06 15:05:21.541546: W tensorflow/stream_executor/platform/default/dso_loader.cc:64] Could not load dynamic library 'libcudart.so.11.0'; dlerror: libcudart.so.11.0: cannot open shared object file: No such file or directory\n",
      "2022-12-06 15:05:21.541584: I tensorflow/stream_executor/cuda/cudart_stub.cc:29] Ignore above cudart dlerror if you do not have a GPU set up on your machine.\n",
      "2022-12-06 15:05:21.664351: E tensorflow/stream_executor/cuda/cuda_blas.cc:2981] Unable to register cuBLAS factory: Attempting to register factory for plugin cuBLAS when one has already been registered\n",
      "2022-12-06 15:05:24.657335: W tensorflow/stream_executor/platform/default/dso_loader.cc:64] Could not load dynamic library 'libnvinfer.so.7'; dlerror: libnvinfer.so.7: cannot open shared object file: No such file or directory\n",
      "2022-12-06 15:05:24.657477: W tensorflow/stream_executor/platform/default/dso_loader.cc:64] Could not load dynamic library 'libnvinfer_plugin.so.7'; dlerror: libnvinfer_plugin.so.7: cannot open shared object file: No such file or directory\n",
      "2022-12-06 15:05:24.657491: W tensorflow/compiler/tf2tensorrt/utils/py_utils.cc:38] TF-TRT Warning: Cannot dlopen some TensorRT libraries. If you would like to use Nvidia GPU with TensorRT, please make sure the missing libraries mentioned above are installed properly.\n"
     ]
    }
   ],
   "source": [
    "\n",
    "import matplotlib.pyplot as plt\n",
    "import seaborn as sns\n",
    "from sklearn.metrics import mean_absolute_error \n",
    "import tensorflow as tf\n"
   ]
  },
  {
   "cell_type": "code",
   "execution_count": 3,
   "metadata": {},
   "outputs": [],
   "source": [
    "sys.path.insert(1, '/home/ujwal/ML_program/Trading_financial_market/Predicting_AUDUSD_Using_Major_Regression_Models')\n",
    "from ipynb.fs.defs.Data_preprocessing import sampling_multi_target\n"
   ]
  },
  {
   "cell_type": "code",
   "execution_count": 4,
   "metadata": {},
   "outputs": [],
   "source": [
    "n_steps_back = 60\n",
    "n_steps_future=10\n",
    "\n",
    "train_X, train_Y, val_X, val_Y, test_X, test_Y,  = sampling_multi_target(n_steps_back, n_steps_future)"
   ]
  },
  {
   "cell_type": "code",
   "execution_count": 5,
   "metadata": {},
   "outputs": [
    {
     "data": {
      "text/plain": [
       "(92464, 60)"
      ]
     },
     "execution_count": 5,
     "metadata": {},
     "output_type": "execute_result"
    }
   ],
   "source": [
    "train_X.shape"
   ]
  },
  {
   "cell_type": "code",
   "execution_count": 6,
   "metadata": {},
   "outputs": [
    {
     "data": {
      "text/plain": [
       "(92464, 10)"
      ]
     },
     "execution_count": 6,
     "metadata": {},
     "output_type": "execute_result"
    }
   ],
   "source": [
    "train_Y.shape"
   ]
  },
  {
   "cell_type": "code",
   "execution_count": 10,
   "metadata": {},
   "outputs": [
    {
     "data": {
      "text/plain": [
       "array([0.82267, 0.82327, 0.82157, 0.82217, 0.82237, 0.82137, 0.82137,\n",
       "       0.82157, 0.81957, 0.82017, 0.82047, 0.82077, 0.82087, 0.82117,\n",
       "       0.82287, 0.82257, 0.82117, 0.82037, 0.82067, 0.82487, 0.82397,\n",
       "       0.82447, 0.82457, 0.82667, 0.82647, 0.82357, 0.82487, 0.82467,\n",
       "       0.82287, 0.82417, 0.82357, 0.82547, 0.82437, 0.82407, 0.82267,\n",
       "       0.82187, 0.82357, 0.82387, 0.82447, 0.82447, 0.82547, 0.82797,\n",
       "       0.82737, 0.82727, 0.82437, 0.82497, 0.82377, 0.82377, 0.82237,\n",
       "       0.81907, 0.82227, 0.82177, 0.82237, 0.82077, 0.81957, 0.81967,\n",
       "       0.82347, 0.82427, 0.82567, 0.82447])"
      ]
     },
     "execution_count": 10,
     "metadata": {},
     "output_type": "execute_result"
    }
   ],
   "source": [
    "train_X[2]"
   ]
  },
  {
   "cell_type": "code",
   "execution_count": 11,
   "metadata": {},
   "outputs": [
    {
     "data": {
      "text/plain": [
       "array([0.82447, 0.82227, 0.82277, 0.82157, 0.82157, 0.82277, 0.82027,\n",
       "       0.82057, 0.82127, 0.82367])"
      ]
     },
     "execution_count": 11,
     "metadata": {},
     "output_type": "execute_result"
    }
   ],
   "source": [
    "train_Y[1]"
   ]
  },
  {
   "cell_type": "code",
   "execution_count": 12,
   "metadata": {},
   "outputs": [
    {
     "data": {
      "text/plain": [
       "array([0.82227, 0.82277, 0.82157, 0.82157, 0.82277, 0.82027, 0.82057,\n",
       "       0.82127, 0.82367, 0.82307])"
      ]
     },
     "execution_count": 12,
     "metadata": {},
     "output_type": "execute_result"
    }
   ],
   "source": [
    "train_Y[2]"
   ]
  },
  {
   "cell_type": "code",
   "execution_count": 8,
   "metadata": {},
   "outputs": [
    {
     "name": "stderr",
     "output_type": "stream",
     "text": [
      "2022-12-06 15:06:03.583045: W tensorflow/stream_executor/platform/default/dso_loader.cc:64] Could not load dynamic library 'libcuda.so.1'; dlerror: libcuda.so.1: cannot open shared object file: No such file or directory\n",
      "2022-12-06 15:06:03.583089: W tensorflow/stream_executor/cuda/cuda_driver.cc:263] failed call to cuInit: UNKNOWN ERROR (303)\n",
      "2022-12-06 15:06:03.583115: I tensorflow/stream_executor/cuda/cuda_diagnostics.cc:156] kernel driver does not appear to be running on this host (linux-mint): /proc/driver/nvidia/version does not exist\n",
      "2022-12-06 15:06:03.583405: I tensorflow/core/platform/cpu_feature_guard.cc:193] This TensorFlow binary is optimized with oneAPI Deep Neural Network Library (oneDNN) to use the following CPU instructions in performance-critical operations:  AVX2 FMA\n",
      "To enable them in other operations, rebuild TensorFlow with the appropriate compiler flags.\n"
     ]
    },
    {
     "name": "stdout",
     "output_type": "stream",
     "text": [
      "Model: \"sequential\"\n",
      "_________________________________________________________________\n",
      " Layer (type)                Output Shape              Param #   \n",
      "=================================================================\n",
      " dense (Dense)               (None, 128)               7808      \n",
      "                                                                 \n",
      " dense_1 (Dense)             (None, 256)               33024     \n",
      "                                                                 \n",
      " dense_2 (Dense)             (None, 256)               65792     \n",
      "                                                                 \n",
      " dense_3 (Dense)             (None, 256)               65792     \n",
      "                                                                 \n",
      " dense_4 (Dense)             (None, 10)                2570      \n",
      "                                                                 \n",
      "=================================================================\n",
      "Total params: 174,986\n",
      "Trainable params: 174,986\n",
      "Non-trainable params: 0\n",
      "_________________________________________________________________\n"
     ]
    }
   ],
   "source": [
    "from keras.callbacks import ModelCheckpoint\n",
    "from keras.models import Sequential\n",
    "from keras.layers import Dense, Activation, Flatten\n",
    "from sklearn.metrics import mean_absolute_error \n",
    "# import warnings \n",
    "# warnings.filterwarnings('ignore')\n",
    "# warnings.filterwarnings('ignore', category=DeprecationWarning)\n",
    "\n",
    "NN_model = Sequential()\n",
    "\n",
    "# The Input Layer :\n",
    "NN_model.add(Dense(128, kernel_initializer='normal',input_dim = train_X.shape[1], activation='relu'))\n",
    "\n",
    "# The Hidden Layers :\n",
    "NN_model.add(Dense(256, kernel_initializer='normal',activation='relu'))\n",
    "NN_model.add(Dense(256, kernel_initializer='normal',activation='relu'))\n",
    "NN_model.add(Dense(256, kernel_initializer='normal',activation='relu'))\n",
    "\n",
    "# The Output Layer :\n",
    "NN_model.add(Dense(10, kernel_initializer='normal',activation='linear'))\n",
    "\n",
    "# Compile the network :\n",
    "NN_model.compile(loss='mean_absolute_error', optimizer='adam', metrics=['mean_absolute_error'])\n",
    "NN_model.summary()\n"
   ]
  },
  {
   "cell_type": "code",
   "execution_count": 9,
   "metadata": {},
   "outputs": [],
   "source": [
    "checkpoint_name = 'Weights-{epoch:03d}--{val_loss:.5f}.hdf5' \n",
    "checkpoint = ModelCheckpoint(checkpoint_name, monitor='val_loss', verbose = 1, save_best_only = True, mode ='auto')\n",
    "callbacks_list = [checkpoint]"
   ]
  },
  {
   "cell_type": "code",
   "execution_count": 21,
   "metadata": {},
   "outputs": [
    {
     "name": "stdout",
     "output_type": "stream",
     "text": [
      "Epoch 1/100\n",
      "2308/2312 [============================>.] - ETA: 0s - loss: 0.0058 - mean_absolute_error: 0.0058\n",
      "Epoch 1: val_loss improved from inf to 0.00276, saving model to Weights-001--0.00276.hdf5\n",
      "2312/2312 [==============================] - 10s 4ms/step - loss: 0.0058 - mean_absolute_error: 0.0058 - val_loss: 0.0028 - val_mean_absolute_error: 0.0028\n",
      "Epoch 2/100\n",
      "2306/2312 [============================>.] - ETA: 0s - loss: 0.0056 - mean_absolute_error: 0.0056\n",
      "Epoch 2: val_loss improved from 0.00276 to 0.00245, saving model to Weights-002--0.00245.hdf5\n",
      "2312/2312 [==============================] - 10s 4ms/step - loss: 0.0056 - mean_absolute_error: 0.0056 - val_loss: 0.0024 - val_mean_absolute_error: 0.0024\n",
      "Epoch 3/100\n",
      "2308/2312 [============================>.] - ETA: 0s - loss: 0.0052 - mean_absolute_error: 0.0052\n",
      "Epoch 3: val_loss did not improve from 0.00245\n",
      "2312/2312 [==============================] - 10s 4ms/step - loss: 0.0052 - mean_absolute_error: 0.0052 - val_loss: 0.0040 - val_mean_absolute_error: 0.0040\n",
      "Epoch 4/100\n",
      "2311/2312 [============================>.] - ETA: 0s - loss: 0.0054 - mean_absolute_error: 0.0054\n",
      "Epoch 4: val_loss improved from 0.00245 to 0.00190, saving model to Weights-004--0.00190.hdf5\n",
      "2312/2312 [==============================] - 10s 4ms/step - loss: 0.0054 - mean_absolute_error: 0.0054 - val_loss: 0.0019 - val_mean_absolute_error: 0.0019\n",
      "Epoch 5/100\n",
      "2312/2312 [==============================] - ETA: 0s - loss: 0.0052 - mean_absolute_error: 0.0052\n",
      "Epoch 5: val_loss did not improve from 0.00190\n",
      "2312/2312 [==============================] - 11s 5ms/step - loss: 0.0052 - mean_absolute_error: 0.0052 - val_loss: 0.0026 - val_mean_absolute_error: 0.0026\n",
      "Epoch 6/100\n",
      "2306/2312 [============================>.] - ETA: 0s - loss: 0.0050 - mean_absolute_error: 0.0050\n",
      "Epoch 6: val_loss did not improve from 0.00190\n",
      "2312/2312 [==============================] - 12s 5ms/step - loss: 0.0050 - mean_absolute_error: 0.0050 - val_loss: 0.0040 - val_mean_absolute_error: 0.0040\n",
      "Epoch 7/100\n",
      "2310/2312 [============================>.] - ETA: 0s - loss: 0.0049 - mean_absolute_error: 0.0049\n",
      "Epoch 7: val_loss improved from 0.00190 to 0.00188, saving model to Weights-007--0.00188.hdf5\n",
      "2312/2312 [==============================] - 12s 5ms/step - loss: 0.0049 - mean_absolute_error: 0.0049 - val_loss: 0.0019 - val_mean_absolute_error: 0.0019\n",
      "Epoch 8/100\n",
      "2310/2312 [============================>.] - ETA: 0s - loss: 0.0051 - mean_absolute_error: 0.0051\n",
      "Epoch 8: val_loss did not improve from 0.00188\n",
      "2312/2312 [==============================] - 12s 5ms/step - loss: 0.0051 - mean_absolute_error: 0.0051 - val_loss: 0.0029 - val_mean_absolute_error: 0.0029\n",
      "Epoch 9/100\n",
      "2310/2312 [============================>.] - ETA: 0s - loss: 0.0049 - mean_absolute_error: 0.0049\n",
      "Epoch 9: val_loss did not improve from 0.00188\n",
      "2312/2312 [==============================] - 14s 6ms/step - loss: 0.0049 - mean_absolute_error: 0.0049 - val_loss: 0.0044 - val_mean_absolute_error: 0.0044\n",
      "Epoch 10/100\n",
      "2306/2312 [============================>.] - ETA: 0s - loss: 0.0050 - mean_absolute_error: 0.0050\n",
      "Epoch 10: val_loss did not improve from 0.00188\n",
      "2312/2312 [==============================] - 11s 5ms/step - loss: 0.0050 - mean_absolute_error: 0.0050 - val_loss: 0.0038 - val_mean_absolute_error: 0.0038\n",
      "Epoch 11/100\n",
      "2308/2312 [============================>.] - ETA: 0s - loss: 0.0049 - mean_absolute_error: 0.0049\n",
      "Epoch 11: val_loss did not improve from 0.00188\n",
      "2312/2312 [==============================] - 12s 5ms/step - loss: 0.0049 - mean_absolute_error: 0.0049 - val_loss: 0.0037 - val_mean_absolute_error: 0.0037\n",
      "Epoch 12/100\n",
      "2300/2312 [============================>.] - ETA: 0s - loss: 0.0048 - mean_absolute_error: 0.0048\n",
      "Epoch 12: val_loss did not improve from 0.00188\n",
      "2312/2312 [==============================] - 9s 4ms/step - loss: 0.0048 - mean_absolute_error: 0.0048 - val_loss: 0.0020 - val_mean_absolute_error: 0.0020\n",
      "Epoch 13/100\n",
      "2305/2312 [============================>.] - ETA: 0s - loss: 0.0049 - mean_absolute_error: 0.0049\n",
      "Epoch 13: val_loss did not improve from 0.00188\n",
      "2312/2312 [==============================] - 8s 3ms/step - loss: 0.0049 - mean_absolute_error: 0.0049 - val_loss: 0.0047 - val_mean_absolute_error: 0.0047\n",
      "Epoch 14/100\n",
      "2308/2312 [============================>.] - ETA: 0s - loss: 0.0048 - mean_absolute_error: 0.0048\n",
      "Epoch 14: val_loss did not improve from 0.00188\n",
      "2312/2312 [==============================] - 8s 4ms/step - loss: 0.0048 - mean_absolute_error: 0.0048 - val_loss: 0.0046 - val_mean_absolute_error: 0.0046\n",
      "Epoch 15/100\n",
      "2299/2312 [============================>.] - ETA: 0s - loss: 0.0044 - mean_absolute_error: 0.0044\n",
      "Epoch 15: val_loss did not improve from 0.00188\n",
      "2312/2312 [==============================] - 8s 3ms/step - loss: 0.0044 - mean_absolute_error: 0.0044 - val_loss: 0.0041 - val_mean_absolute_error: 0.0041\n",
      "Epoch 16/100\n",
      "2310/2312 [============================>.] - ETA: 0s - loss: 0.0045 - mean_absolute_error: 0.0045\n",
      "Epoch 16: val_loss improved from 0.00188 to 0.00184, saving model to Weights-016--0.00184.hdf5\n",
      "2312/2312 [==============================] - 15s 7ms/step - loss: 0.0045 - mean_absolute_error: 0.0045 - val_loss: 0.0018 - val_mean_absolute_error: 0.0018\n",
      "Epoch 17/100\n",
      "2310/2312 [============================>.] - ETA: 0s - loss: 0.0044 - mean_absolute_error: 0.0044\n",
      "Epoch 17: val_loss did not improve from 0.00184\n",
      "2312/2312 [==============================] - 18s 8ms/step - loss: 0.0044 - mean_absolute_error: 0.0044 - val_loss: 0.0038 - val_mean_absolute_error: 0.0038\n",
      "Epoch 18/100\n",
      "2309/2312 [============================>.] - ETA: 0s - loss: 0.0047 - mean_absolute_error: 0.0047\n",
      "Epoch 18: val_loss did not improve from 0.00184\n",
      "2312/2312 [==============================] - 12s 5ms/step - loss: 0.0047 - mean_absolute_error: 0.0047 - val_loss: 0.0033 - val_mean_absolute_error: 0.0033\n",
      "Epoch 19/100\n",
      "2307/2312 [============================>.] - ETA: 0s - loss: 0.0044 - mean_absolute_error: 0.0044\n",
      "Epoch 19: val_loss did not improve from 0.00184\n",
      "2312/2312 [==============================] - 9s 4ms/step - loss: 0.0044 - mean_absolute_error: 0.0044 - val_loss: 0.0029 - val_mean_absolute_error: 0.0029\n",
      "Epoch 20/100\n",
      "2308/2312 [============================>.] - ETA: 0s - loss: 0.0045 - mean_absolute_error: 0.0045\n",
      "Epoch 20: val_loss did not improve from 0.00184\n",
      "2312/2312 [==============================] - 10s 4ms/step - loss: 0.0045 - mean_absolute_error: 0.0045 - val_loss: 0.0061 - val_mean_absolute_error: 0.0061\n",
      "Epoch 21/100\n",
      "2299/2312 [============================>.] - ETA: 0s - loss: 0.0042 - mean_absolute_error: 0.0042\n",
      "Epoch 21: val_loss did not improve from 0.00184\n",
      "2312/2312 [==============================] - 10s 4ms/step - loss: 0.0042 - mean_absolute_error: 0.0042 - val_loss: 0.0030 - val_mean_absolute_error: 0.0030\n",
      "Epoch 22/100\n",
      "2300/2312 [============================>.] - ETA: 0s - loss: 0.0044 - mean_absolute_error: 0.0044\n",
      "Epoch 22: val_loss did not improve from 0.00184\n",
      "2312/2312 [==============================] - 9s 4ms/step - loss: 0.0044 - mean_absolute_error: 0.0044 - val_loss: 0.0063 - val_mean_absolute_error: 0.0063\n",
      "Epoch 23/100\n",
      "2311/2312 [============================>.] - ETA: 0s - loss: 0.0042 - mean_absolute_error: 0.0042\n",
      "Epoch 23: val_loss did not improve from 0.00184\n",
      "2312/2312 [==============================] - 10s 4ms/step - loss: 0.0042 - mean_absolute_error: 0.0042 - val_loss: 0.0026 - val_mean_absolute_error: 0.0026\n",
      "Epoch 24/100\n",
      "2306/2312 [============================>.] - ETA: 0s - loss: 0.0042 - mean_absolute_error: 0.0042\n",
      "Epoch 24: val_loss did not improve from 0.00184\n",
      "2312/2312 [==============================] - 10s 4ms/step - loss: 0.0042 - mean_absolute_error: 0.0042 - val_loss: 0.0019 - val_mean_absolute_error: 0.0019\n",
      "Epoch 25/100\n",
      "2296/2312 [============================>.] - ETA: 0s - loss: 0.0042 - mean_absolute_error: 0.0042\n",
      "Epoch 25: val_loss did not improve from 0.00184\n",
      "2312/2312 [==============================] - 8s 3ms/step - loss: 0.0042 - mean_absolute_error: 0.0042 - val_loss: 0.0019 - val_mean_absolute_error: 0.0019\n",
      "Epoch 26/100\n",
      "2312/2312 [==============================] - ETA: 0s - loss: 0.0041 - mean_absolute_error: 0.0041\n",
      "Epoch 26: val_loss did not improve from 0.00184\n",
      "2312/2312 [==============================] - 8s 3ms/step - loss: 0.0041 - mean_absolute_error: 0.0041 - val_loss: 0.0031 - val_mean_absolute_error: 0.0031\n",
      "Epoch 27/100\n",
      "2306/2312 [============================>.] - ETA: 0s - loss: 0.0041 - mean_absolute_error: 0.0041\n",
      "Epoch 27: val_loss did not improve from 0.00184\n",
      "2312/2312 [==============================] - 8s 4ms/step - loss: 0.0041 - mean_absolute_error: 0.0041 - val_loss: 0.0046 - val_mean_absolute_error: 0.0046\n",
      "Epoch 28/100\n",
      "2302/2312 [============================>.] - ETA: 0s - loss: 0.0042 - mean_absolute_error: 0.0042\n",
      "Epoch 28: val_loss did not improve from 0.00184\n",
      "2312/2312 [==============================] - 9s 4ms/step - loss: 0.0042 - mean_absolute_error: 0.0042 - val_loss: 0.0019 - val_mean_absolute_error: 0.0019\n",
      "Epoch 29/100\n",
      "2300/2312 [============================>.] - ETA: 0s - loss: 0.0041 - mean_absolute_error: 0.0041\n",
      "Epoch 29: val_loss improved from 0.00184 to 0.00162, saving model to Weights-029--0.00162.hdf5\n",
      "2312/2312 [==============================] - 9s 4ms/step - loss: 0.0040 - mean_absolute_error: 0.0040 - val_loss: 0.0016 - val_mean_absolute_error: 0.0016\n",
      "Epoch 30/100\n",
      "2311/2312 [============================>.] - ETA: 0s - loss: 0.0038 - mean_absolute_error: 0.0038\n",
      "Epoch 30: val_loss did not improve from 0.00162\n",
      "2312/2312 [==============================] - 9s 4ms/step - loss: 0.0038 - mean_absolute_error: 0.0038 - val_loss: 0.0023 - val_mean_absolute_error: 0.0023\n",
      "Epoch 31/100\n",
      "2307/2312 [============================>.] - ETA: 0s - loss: 0.0041 - mean_absolute_error: 0.0041\n",
      "Epoch 31: val_loss did not improve from 0.00162\n",
      "2312/2312 [==============================] - 10s 4ms/step - loss: 0.0041 - mean_absolute_error: 0.0041 - val_loss: 0.0023 - val_mean_absolute_error: 0.0023\n",
      "Epoch 32/100\n",
      "2312/2312 [==============================] - ETA: 0s - loss: 0.0039 - mean_absolute_error: 0.0039\n",
      "Epoch 32: val_loss did not improve from 0.00162\n",
      "2312/2312 [==============================] - 10s 4ms/step - loss: 0.0039 - mean_absolute_error: 0.0039 - val_loss: 0.0019 - val_mean_absolute_error: 0.0019\n",
      "Epoch 33/100\n",
      "2303/2312 [============================>.] - ETA: 0s - loss: 0.0039 - mean_absolute_error: 0.0039\n",
      "Epoch 33: val_loss did not improve from 0.00162\n",
      "2312/2312 [==============================] - 10s 4ms/step - loss: 0.0039 - mean_absolute_error: 0.0039 - val_loss: 0.0020 - val_mean_absolute_error: 0.0020\n",
      "Epoch 34/100\n",
      "2310/2312 [============================>.] - ETA: 0s - loss: 0.0040 - mean_absolute_error: 0.0040\n",
      "Epoch 34: val_loss did not improve from 0.00162\n",
      "2312/2312 [==============================] - 10s 4ms/step - loss: 0.0040 - mean_absolute_error: 0.0040 - val_loss: 0.0018 - val_mean_absolute_error: 0.0018\n",
      "Epoch 35/100\n",
      "2304/2312 [============================>.] - ETA: 0s - loss: 0.0038 - mean_absolute_error: 0.0038\n",
      "Epoch 35: val_loss did not improve from 0.00162\n",
      "2312/2312 [==============================] - 11s 5ms/step - loss: 0.0038 - mean_absolute_error: 0.0038 - val_loss: 0.0017 - val_mean_absolute_error: 0.0017\n",
      "Epoch 36/100\n",
      "2304/2312 [============================>.] - ETA: 0s - loss: 0.0039 - mean_absolute_error: 0.0039\n",
      "Epoch 36: val_loss did not improve from 0.00162\n",
      "2312/2312 [==============================] - 8s 4ms/step - loss: 0.0039 - mean_absolute_error: 0.0039 - val_loss: 0.0036 - val_mean_absolute_error: 0.0036\n",
      "Epoch 37/100\n",
      "2302/2312 [============================>.] - ETA: 0s - loss: 0.0038 - mean_absolute_error: 0.0038\n",
      "Epoch 37: val_loss did not improve from 0.00162\n",
      "2312/2312 [==============================] - 7s 3ms/step - loss: 0.0038 - mean_absolute_error: 0.0038 - val_loss: 0.0049 - val_mean_absolute_error: 0.0049\n",
      "Epoch 38/100\n",
      "2306/2312 [============================>.] - ETA: 0s - loss: 0.0037 - mean_absolute_error: 0.0037\n",
      "Epoch 38: val_loss did not improve from 0.00162\n",
      "2312/2312 [==============================] - 8s 3ms/step - loss: 0.0037 - mean_absolute_error: 0.0037 - val_loss: 0.0034 - val_mean_absolute_error: 0.0034\n",
      "Epoch 39/100\n",
      "2306/2312 [============================>.] - ETA: 0s - loss: 0.0038 - mean_absolute_error: 0.0038\n",
      "Epoch 39: val_loss did not improve from 0.00162\n",
      "2312/2312 [==============================] - 8s 3ms/step - loss: 0.0038 - mean_absolute_error: 0.0038 - val_loss: 0.0040 - val_mean_absolute_error: 0.0040\n",
      "Epoch 40/100\n",
      "2311/2312 [============================>.] - ETA: 0s - loss: 0.0038 - mean_absolute_error: 0.0038\n",
      "Epoch 40: val_loss did not improve from 0.00162\n",
      "2312/2312 [==============================] - 7s 3ms/step - loss: 0.0038 - mean_absolute_error: 0.0038 - val_loss: 0.0038 - val_mean_absolute_error: 0.0038\n",
      "Epoch 41/100\n",
      "2302/2312 [============================>.] - ETA: 0s - loss: 0.0039 - mean_absolute_error: 0.0039\n",
      "Epoch 41: val_loss did not improve from 0.00162\n",
      "2312/2312 [==============================] - 8s 3ms/step - loss: 0.0039 - mean_absolute_error: 0.0039 - val_loss: 0.0023 - val_mean_absolute_error: 0.0023\n",
      "Epoch 42/100\n",
      "2299/2312 [============================>.] - ETA: 0s - loss: 0.0038 - mean_absolute_error: 0.0038\n",
      "Epoch 42: val_loss did not improve from 0.00162\n",
      "2312/2312 [==============================] - 12s 5ms/step - loss: 0.0038 - mean_absolute_error: 0.0038 - val_loss: 0.0038 - val_mean_absolute_error: 0.0038\n",
      "Epoch 43/100\n",
      "2300/2312 [============================>.] - ETA: 0s - loss: 0.0038 - mean_absolute_error: 0.0038\n",
      "Epoch 43: val_loss did not improve from 0.00162\n",
      "2312/2312 [==============================] - 9s 4ms/step - loss: 0.0038 - mean_absolute_error: 0.0038 - val_loss: 0.0052 - val_mean_absolute_error: 0.0052\n",
      "Epoch 44/100\n",
      "2300/2312 [============================>.] - ETA: 0s - loss: 0.0035 - mean_absolute_error: 0.0035\n",
      "Epoch 44: val_loss did not improve from 0.00162\n",
      "2312/2312 [==============================] - 8s 3ms/step - loss: 0.0035 - mean_absolute_error: 0.0035 - val_loss: 0.0020 - val_mean_absolute_error: 0.0020\n",
      "Epoch 45/100\n",
      "2297/2312 [============================>.] - ETA: 0s - loss: 0.0037 - mean_absolute_error: 0.0037\n",
      "Epoch 45: val_loss did not improve from 0.00162\n",
      "2312/2312 [==============================] - 8s 3ms/step - loss: 0.0037 - mean_absolute_error: 0.0037 - val_loss: 0.0018 - val_mean_absolute_error: 0.0018\n",
      "Epoch 46/100\n",
      "2310/2312 [============================>.] - ETA: 0s - loss: 0.0037 - mean_absolute_error: 0.0037\n",
      "Epoch 46: val_loss did not improve from 0.00162\n",
      "2312/2312 [==============================] - 10s 4ms/step - loss: 0.0037 - mean_absolute_error: 0.0037 - val_loss: 0.0018 - val_mean_absolute_error: 0.0018\n",
      "Epoch 47/100\n",
      "2309/2312 [============================>.] - ETA: 0s - loss: 0.0037 - mean_absolute_error: 0.0037\n",
      "Epoch 47: val_loss did not improve from 0.00162\n",
      "2312/2312 [==============================] - 10s 4ms/step - loss: 0.0037 - mean_absolute_error: 0.0037 - val_loss: 0.0036 - val_mean_absolute_error: 0.0036\n",
      "Epoch 48/100\n",
      "2307/2312 [============================>.] - ETA: 0s - loss: 0.0038 - mean_absolute_error: 0.0038\n",
      "Epoch 48: val_loss did not improve from 0.00162\n",
      "2312/2312 [==============================] - 10s 4ms/step - loss: 0.0038 - mean_absolute_error: 0.0038 - val_loss: 0.0021 - val_mean_absolute_error: 0.0021\n",
      "Epoch 49/100\n",
      "2311/2312 [============================>.] - ETA: 0s - loss: 0.0038 - mean_absolute_error: 0.0038\n",
      "Epoch 49: val_loss did not improve from 0.00162\n",
      "2312/2312 [==============================] - 11s 5ms/step - loss: 0.0038 - mean_absolute_error: 0.0038 - val_loss: 0.0029 - val_mean_absolute_error: 0.0029\n",
      "Epoch 50/100\n",
      "2310/2312 [============================>.] - ETA: 0s - loss: 0.0037 - mean_absolute_error: 0.0037\n",
      "Epoch 50: val_loss did not improve from 0.00162\n",
      "2312/2312 [==============================] - 11s 5ms/step - loss: 0.0037 - mean_absolute_error: 0.0037 - val_loss: 0.0018 - val_mean_absolute_error: 0.0018\n",
      "Epoch 51/100\n",
      "2307/2312 [============================>.] - ETA: 0s - loss: 0.0035 - mean_absolute_error: 0.0035\n",
      "Epoch 51: val_loss did not improve from 0.00162\n",
      "2312/2312 [==============================] - 19s 8ms/step - loss: 0.0035 - mean_absolute_error: 0.0035 - val_loss: 0.0017 - val_mean_absolute_error: 0.0017\n",
      "Epoch 52/100\n",
      "2310/2312 [============================>.] - ETA: 0s - loss: 0.0036 - mean_absolute_error: 0.0036\n",
      "Epoch 52: val_loss did not improve from 0.00162\n",
      "2312/2312 [==============================] - 17s 8ms/step - loss: 0.0036 - mean_absolute_error: 0.0036 - val_loss: 0.0027 - val_mean_absolute_error: 0.0027\n",
      "Epoch 53/100\n",
      "2303/2312 [============================>.] - ETA: 0s - loss: 0.0035 - mean_absolute_error: 0.0035\n",
      "Epoch 53: val_loss improved from 0.00162 to 0.00162, saving model to Weights-053--0.00162.hdf5\n",
      "2312/2312 [==============================] - 14s 6ms/step - loss: 0.0035 - mean_absolute_error: 0.0035 - val_loss: 0.0016 - val_mean_absolute_error: 0.0016\n",
      "Epoch 54/100\n",
      "2309/2312 [============================>.] - ETA: 0s - loss: 0.0035 - mean_absolute_error: 0.0035\n",
      "Epoch 54: val_loss did not improve from 0.00162\n",
      "2312/2312 [==============================] - 22s 9ms/step - loss: 0.0035 - mean_absolute_error: 0.0035 - val_loss: 0.0034 - val_mean_absolute_error: 0.0034\n",
      "Epoch 55/100\n",
      "2309/2312 [============================>.] - ETA: 0s - loss: 0.0036 - mean_absolute_error: 0.0036\n",
      "Epoch 55: val_loss did not improve from 0.00162\n",
      "2312/2312 [==============================] - 29s 13ms/step - loss: 0.0036 - mean_absolute_error: 0.0036 - val_loss: 0.0040 - val_mean_absolute_error: 0.0040\n",
      "Epoch 56/100\n",
      "2307/2312 [============================>.] - ETA: 0s - loss: 0.0035 - mean_absolute_error: 0.0035\n",
      "Epoch 56: val_loss did not improve from 0.00162\n",
      "2312/2312 [==============================] - 41s 18ms/step - loss: 0.0035 - mean_absolute_error: 0.0035 - val_loss: 0.0030 - val_mean_absolute_error: 0.0030\n",
      "Epoch 57/100\n",
      "2310/2312 [============================>.] - ETA: 0s - loss: 0.0036 - mean_absolute_error: 0.0036\n",
      "Epoch 57: val_loss did not improve from 0.00162\n",
      "2312/2312 [==============================] - 36s 16ms/step - loss: 0.0036 - mean_absolute_error: 0.0036 - val_loss: 0.0018 - val_mean_absolute_error: 0.0018\n",
      "Epoch 58/100\n",
      "2308/2312 [============================>.] - ETA: 0s - loss: 0.0035 - mean_absolute_error: 0.0035\n",
      "Epoch 58: val_loss did not improve from 0.00162\n",
      "2312/2312 [==============================] - 36s 16ms/step - loss: 0.0035 - mean_absolute_error: 0.0035 - val_loss: 0.0050 - val_mean_absolute_error: 0.0050\n",
      "Epoch 59/100\n",
      "2308/2312 [============================>.] - ETA: 0s - loss: 0.0034 - mean_absolute_error: 0.0034\n",
      "Epoch 59: val_loss did not improve from 0.00162\n",
      "2312/2312 [==============================] - 37s 16ms/step - loss: 0.0034 - mean_absolute_error: 0.0034 - val_loss: 0.0038 - val_mean_absolute_error: 0.0038\n",
      "Epoch 60/100\n",
      "2312/2312 [==============================] - ETA: 0s - loss: 0.0036 - mean_absolute_error: 0.0036\n",
      "Epoch 60: val_loss did not improve from 0.00162\n",
      "2312/2312 [==============================] - 30s 13ms/step - loss: 0.0036 - mean_absolute_error: 0.0036 - val_loss: 0.0019 - val_mean_absolute_error: 0.0019\n",
      "Epoch 61/100\n",
      "2307/2312 [============================>.] - ETA: 0s - loss: 0.0034 - mean_absolute_error: 0.0034\n",
      "Epoch 61: val_loss did not improve from 0.00162\n",
      "2312/2312 [==============================] - 26s 11ms/step - loss: 0.0034 - mean_absolute_error: 0.0034 - val_loss: 0.0025 - val_mean_absolute_error: 0.0025\n",
      "Epoch 62/100\n",
      "2309/2312 [============================>.] - ETA: 0s - loss: 0.0035 - mean_absolute_error: 0.0035\n",
      "Epoch 62: val_loss did not improve from 0.00162\n",
      "2312/2312 [==============================] - 29s 12ms/step - loss: 0.0035 - mean_absolute_error: 0.0035 - val_loss: 0.0019 - val_mean_absolute_error: 0.0019\n",
      "Epoch 63/100\n",
      "2310/2312 [============================>.] - ETA: 0s - loss: 0.0035 - mean_absolute_error: 0.0035\n",
      "Epoch 63: val_loss improved from 0.00162 to 0.00160, saving model to Weights-063--0.00160.hdf5\n",
      "2312/2312 [==============================] - 34s 15ms/step - loss: 0.0035 - mean_absolute_error: 0.0035 - val_loss: 0.0016 - val_mean_absolute_error: 0.0016\n",
      "Epoch 64/100\n",
      "2311/2312 [============================>.] - ETA: 0s - loss: 0.0036 - mean_absolute_error: 0.0036\n",
      "Epoch 64: val_loss did not improve from 0.00160\n",
      "2312/2312 [==============================] - 33s 14ms/step - loss: 0.0036 - mean_absolute_error: 0.0036 - val_loss: 0.0035 - val_mean_absolute_error: 0.0035\n",
      "Epoch 65/100\n",
      "2308/2312 [============================>.] - ETA: 0s - loss: 0.0034 - mean_absolute_error: 0.0034\n",
      "Epoch 65: val_loss did not improve from 0.00160\n",
      "2312/2312 [==============================] - 27s 12ms/step - loss: 0.0034 - mean_absolute_error: 0.0034 - val_loss: 0.0024 - val_mean_absolute_error: 0.0024\n",
      "Epoch 66/100\n",
      "2311/2312 [============================>.] - ETA: 0s - loss: 0.0035 - mean_absolute_error: 0.0035\n",
      "Epoch 66: val_loss did not improve from 0.00160\n",
      "2312/2312 [==============================] - 33s 14ms/step - loss: 0.0035 - mean_absolute_error: 0.0035 - val_loss: 0.0019 - val_mean_absolute_error: 0.0019\n",
      "Epoch 67/100\n",
      "2308/2312 [============================>.] - ETA: 0s - loss: 0.0034 - mean_absolute_error: 0.0034\n",
      "Epoch 67: val_loss did not improve from 0.00160\n",
      "2312/2312 [==============================] - 29s 13ms/step - loss: 0.0034 - mean_absolute_error: 0.0034 - val_loss: 0.0026 - val_mean_absolute_error: 0.0026\n",
      "Epoch 68/100\n",
      "2308/2312 [============================>.] - ETA: 0s - loss: 0.0034 - mean_absolute_error: 0.0034\n",
      "Epoch 68: val_loss improved from 0.00160 to 0.00154, saving model to Weights-068--0.00154.hdf5\n",
      "2312/2312 [==============================] - 34s 15ms/step - loss: 0.0034 - mean_absolute_error: 0.0034 - val_loss: 0.0015 - val_mean_absolute_error: 0.0015\n",
      "Epoch 69/100\n",
      "2310/2312 [============================>.] - ETA: 0s - loss: 0.0034 - mean_absolute_error: 0.0034\n",
      "Epoch 69: val_loss did not improve from 0.00154\n",
      "2312/2312 [==============================] - 31s 13ms/step - loss: 0.0034 - mean_absolute_error: 0.0034 - val_loss: 0.0017 - val_mean_absolute_error: 0.0017\n",
      "Epoch 70/100\n",
      "2309/2312 [============================>.] - ETA: 0s - loss: 0.0034 - mean_absolute_error: 0.0034\n",
      "Epoch 70: val_loss did not improve from 0.00154\n",
      "2312/2312 [==============================] - 29s 12ms/step - loss: 0.0034 - mean_absolute_error: 0.0034 - val_loss: 0.0018 - val_mean_absolute_error: 0.0018\n",
      "Epoch 71/100\n",
      "2310/2312 [============================>.] - ETA: 0s - loss: 0.0034 - mean_absolute_error: 0.0034\n",
      "Epoch 71: val_loss did not improve from 0.00154\n",
      "2312/2312 [==============================] - 29s 13ms/step - loss: 0.0034 - mean_absolute_error: 0.0034 - val_loss: 0.0029 - val_mean_absolute_error: 0.0029\n",
      "Epoch 72/100\n",
      "2309/2312 [============================>.] - ETA: 0s - loss: 0.0034 - mean_absolute_error: 0.0034\n",
      "Epoch 72: val_loss did not improve from 0.00154\n",
      "2312/2312 [==============================] - 30s 13ms/step - loss: 0.0034 - mean_absolute_error: 0.0034 - val_loss: 0.0034 - val_mean_absolute_error: 0.0034\n",
      "Epoch 73/100\n",
      "2312/2312 [==============================] - ETA: 0s - loss: 0.0033 - mean_absolute_error: 0.0033\n",
      "Epoch 73: val_loss did not improve from 0.00154\n",
      "2312/2312 [==============================] - 29s 13ms/step - loss: 0.0033 - mean_absolute_error: 0.0033 - val_loss: 0.0018 - val_mean_absolute_error: 0.0018\n",
      "Epoch 74/100\n",
      "2310/2312 [============================>.] - ETA: 0s - loss: 0.0033 - mean_absolute_error: 0.0033\n",
      "Epoch 74: val_loss did not improve from 0.00154\n",
      "2312/2312 [==============================] - 31s 13ms/step - loss: 0.0033 - mean_absolute_error: 0.0033 - val_loss: 0.0017 - val_mean_absolute_error: 0.0017\n",
      "Epoch 75/100\n",
      "2312/2312 [==============================] - ETA: 0s - loss: 0.0033 - mean_absolute_error: 0.0033\n",
      "Epoch 75: val_loss did not improve from 0.00154\n",
      "2312/2312 [==============================] - 21s 9ms/step - loss: 0.0033 - mean_absolute_error: 0.0033 - val_loss: 0.0022 - val_mean_absolute_error: 0.0022\n",
      "Epoch 76/100\n",
      "2311/2312 [============================>.] - ETA: 0s - loss: 0.0032 - mean_absolute_error: 0.0032\n",
      "Epoch 76: val_loss did not improve from 0.00154\n",
      "2312/2312 [==============================] - 22s 10ms/step - loss: 0.0032 - mean_absolute_error: 0.0032 - val_loss: 0.0022 - val_mean_absolute_error: 0.0022\n",
      "Epoch 77/100\n",
      "2305/2312 [============================>.] - ETA: 0s - loss: 0.0033 - mean_absolute_error: 0.0033\n",
      "Epoch 77: val_loss improved from 0.00154 to 0.00146, saving model to Weights-077--0.00146.hdf5\n",
      "2312/2312 [==============================] - 25s 11ms/step - loss: 0.0033 - mean_absolute_error: 0.0033 - val_loss: 0.0015 - val_mean_absolute_error: 0.0015\n",
      "Epoch 78/100\n",
      "2309/2312 [============================>.] - ETA: 0s - loss: 0.0033 - mean_absolute_error: 0.0033\n",
      "Epoch 78: val_loss did not improve from 0.00146\n",
      "2312/2312 [==============================] - 23s 10ms/step - loss: 0.0033 - mean_absolute_error: 0.0033 - val_loss: 0.0015 - val_mean_absolute_error: 0.0015\n",
      "Epoch 79/100\n",
      "2312/2312 [==============================] - ETA: 0s - loss: 0.0032 - mean_absolute_error: 0.0032\n",
      "Epoch 79: val_loss did not improve from 0.00146\n",
      "2312/2312 [==============================] - 22s 10ms/step - loss: 0.0032 - mean_absolute_error: 0.0032 - val_loss: 0.0019 - val_mean_absolute_error: 0.0019\n",
      "Epoch 80/100\n",
      "2304/2312 [============================>.] - ETA: 0s - loss: 0.0033 - mean_absolute_error: 0.0033\n",
      "Epoch 80: val_loss did not improve from 0.00146\n",
      "2312/2312 [==============================] - 25s 11ms/step - loss: 0.0033 - mean_absolute_error: 0.0033 - val_loss: 0.0027 - val_mean_absolute_error: 0.0027\n",
      "Epoch 81/100\n",
      "2307/2312 [============================>.] - ETA: 0s - loss: 0.0033 - mean_absolute_error: 0.0033\n",
      "Epoch 81: val_loss did not improve from 0.00146\n",
      "2312/2312 [==============================] - 23s 10ms/step - loss: 0.0033 - mean_absolute_error: 0.0033 - val_loss: 0.0026 - val_mean_absolute_error: 0.0026\n",
      "Epoch 82/100\n",
      "2305/2312 [============================>.] - ETA: 0s - loss: 0.0034 - mean_absolute_error: 0.0034\n",
      "Epoch 82: val_loss did not improve from 0.00146\n",
      "2312/2312 [==============================] - 20s 9ms/step - loss: 0.0034 - mean_absolute_error: 0.0034 - val_loss: 0.0023 - val_mean_absolute_error: 0.0023\n",
      "Epoch 83/100\n",
      "2310/2312 [============================>.] - ETA: 0s - loss: 0.0034 - mean_absolute_error: 0.0034\n",
      "Epoch 83: val_loss did not improve from 0.00146\n",
      "2312/2312 [==============================] - 23s 10ms/step - loss: 0.0034 - mean_absolute_error: 0.0034 - val_loss: 0.0018 - val_mean_absolute_error: 0.0018\n",
      "Epoch 84/100\n",
      "2306/2312 [============================>.] - ETA: 0s - loss: 0.0033 - mean_absolute_error: 0.0033\n",
      "Epoch 84: val_loss did not improve from 0.00146\n",
      "2312/2312 [==============================] - 22s 10ms/step - loss: 0.0033 - mean_absolute_error: 0.0033 - val_loss: 0.0040 - val_mean_absolute_error: 0.0040\n",
      "Epoch 85/100\n",
      "2306/2312 [============================>.] - ETA: 0s - loss: 0.0032 - mean_absolute_error: 0.0032\n",
      "Epoch 85: val_loss did not improve from 0.00146\n",
      "2312/2312 [==============================] - 22s 10ms/step - loss: 0.0032 - mean_absolute_error: 0.0032 - val_loss: 0.0026 - val_mean_absolute_error: 0.0026\n",
      "Epoch 86/100\n",
      "2310/2312 [============================>.] - ETA: 0s - loss: 0.0034 - mean_absolute_error: 0.0034\n",
      "Epoch 86: val_loss did not improve from 0.00146\n",
      "2312/2312 [==============================] - 24s 10ms/step - loss: 0.0035 - mean_absolute_error: 0.0035 - val_loss: 0.0025 - val_mean_absolute_error: 0.0025\n",
      "Epoch 87/100\n",
      "2312/2312 [==============================] - ETA: 0s - loss: 0.0032 - mean_absolute_error: 0.0032\n",
      "Epoch 87: val_loss did not improve from 0.00146\n",
      "2312/2312 [==============================] - 22s 10ms/step - loss: 0.0032 - mean_absolute_error: 0.0032 - val_loss: 0.0017 - val_mean_absolute_error: 0.0017\n",
      "Epoch 88/100\n",
      "2310/2312 [============================>.] - ETA: 0s - loss: 0.0032 - mean_absolute_error: 0.0032\n",
      "Epoch 88: val_loss did not improve from 0.00146\n",
      "2312/2312 [==============================] - 24s 11ms/step - loss: 0.0032 - mean_absolute_error: 0.0032 - val_loss: 0.0039 - val_mean_absolute_error: 0.0039\n",
      "Epoch 89/100\n",
      "2305/2312 [============================>.] - ETA: 0s - loss: 0.0032 - mean_absolute_error: 0.0032\n",
      "Epoch 89: val_loss did not improve from 0.00146\n",
      "2312/2312 [==============================] - 26s 11ms/step - loss: 0.0032 - mean_absolute_error: 0.0032 - val_loss: 0.0019 - val_mean_absolute_error: 0.0019\n",
      "Epoch 90/100\n",
      "2306/2312 [============================>.] - ETA: 0s - loss: 0.0032 - mean_absolute_error: 0.0032\n",
      "Epoch 90: val_loss did not improve from 0.00146\n",
      "2312/2312 [==============================] - 25s 11ms/step - loss: 0.0032 - mean_absolute_error: 0.0032 - val_loss: 0.0020 - val_mean_absolute_error: 0.0020\n",
      "Epoch 91/100\n",
      "2306/2312 [============================>.] - ETA: 0s - loss: 0.0033 - mean_absolute_error: 0.0033\n",
      "Epoch 91: val_loss did not improve from 0.00146\n",
      "2312/2312 [==============================] - 20s 9ms/step - loss: 0.0033 - mean_absolute_error: 0.0033 - val_loss: 0.0034 - val_mean_absolute_error: 0.0034\n",
      "Epoch 92/100\n",
      "2311/2312 [============================>.] - ETA: 0s - loss: 0.0034 - mean_absolute_error: 0.0034\n",
      "Epoch 92: val_loss did not improve from 0.00146\n",
      "2312/2312 [==============================] - 23s 10ms/step - loss: 0.0034 - mean_absolute_error: 0.0034 - val_loss: 0.0015 - val_mean_absolute_error: 0.0015\n",
      "Epoch 93/100\n",
      "2312/2312 [==============================] - ETA: 0s - loss: 0.0034 - mean_absolute_error: 0.0034\n",
      "Epoch 93: val_loss did not improve from 0.00146\n",
      "2312/2312 [==============================] - 20s 8ms/step - loss: 0.0034 - mean_absolute_error: 0.0034 - val_loss: 0.0018 - val_mean_absolute_error: 0.0018\n",
      "Epoch 94/100\n",
      "2310/2312 [============================>.] - ETA: 0s - loss: 0.0032 - mean_absolute_error: 0.0032\n",
      "Epoch 94: val_loss did not improve from 0.00146\n",
      "2312/2312 [==============================] - 23s 10ms/step - loss: 0.0032 - mean_absolute_error: 0.0032 - val_loss: 0.0035 - val_mean_absolute_error: 0.0035\n",
      "Epoch 95/100\n",
      "2308/2312 [============================>.] - ETA: 0s - loss: 0.0032 - mean_absolute_error: 0.0032\n",
      "Epoch 95: val_loss did not improve from 0.00146\n",
      "2312/2312 [==============================] - 20s 9ms/step - loss: 0.0032 - mean_absolute_error: 0.0032 - val_loss: 0.0017 - val_mean_absolute_error: 0.0017\n",
      "Epoch 96/100\n",
      "2303/2312 [============================>.] - ETA: 0s - loss: 0.0032 - mean_absolute_error: 0.0032\n",
      "Epoch 96: val_loss did not improve from 0.00146\n",
      "2312/2312 [==============================] - 21s 9ms/step - loss: 0.0032 - mean_absolute_error: 0.0032 - val_loss: 0.0029 - val_mean_absolute_error: 0.0029\n",
      "Epoch 97/100\n",
      "2312/2312 [==============================] - ETA: 0s - loss: 0.0032 - mean_absolute_error: 0.0032\n",
      "Epoch 97: val_loss did not improve from 0.00146\n",
      "2312/2312 [==============================] - 20s 9ms/step - loss: 0.0032 - mean_absolute_error: 0.0032 - val_loss: 0.0018 - val_mean_absolute_error: 0.0018\n",
      "Epoch 98/100\n",
      "2306/2312 [============================>.] - ETA: 0s - loss: 0.0032 - mean_absolute_error: 0.0032\n",
      "Epoch 98: val_loss did not improve from 0.00146\n",
      "2312/2312 [==============================] - 19s 8ms/step - loss: 0.0032 - mean_absolute_error: 0.0032 - val_loss: 0.0017 - val_mean_absolute_error: 0.0017\n",
      "Epoch 99/100\n",
      "2309/2312 [============================>.] - ETA: 0s - loss: 0.0034 - mean_absolute_error: 0.0034\n",
      "Epoch 99: val_loss did not improve from 0.00146\n",
      "2312/2312 [==============================] - 22s 10ms/step - loss: 0.0034 - mean_absolute_error: 0.0034 - val_loss: 0.0017 - val_mean_absolute_error: 0.0017\n",
      "Epoch 100/100\n",
      "2305/2312 [============================>.] - ETA: 0s - loss: 0.0031 - mean_absolute_error: 0.0031\n",
      "Epoch 100: val_loss did not improve from 0.00146\n",
      "2312/2312 [==============================] - 21s 9ms/step - loss: 0.0031 - mean_absolute_error: 0.0031 - val_loss: 0.0026 - val_mean_absolute_error: 0.0026\n"
     ]
    },
    {
     "data": {
      "text/plain": [
       "<keras.callbacks.History at 0x7f87c28529a0>"
      ]
     },
     "execution_count": 21,
     "metadata": {},
     "output_type": "execute_result"
    }
   ],
   "source": [
    "NN_model.fit(train_X, train_Y, epochs=100, batch_size=32, validation_split = 0.2, callbacks=callbacks_list)\n"
   ]
  },
  {
   "cell_type": "code",
   "execution_count": 10,
   "metadata": {},
   "outputs": [],
   "source": [
    "\n",
    "# Load wights file of the best model :\n",
    "wights_file = 'Weights-077--0.00146.hdf5' # choose the best checkpoint \n",
    "NN_model.load_weights(wights_file) # load it\n",
    "NN_model.compile(loss='mean_absolute_error', optimizer='adam', metrics=['mean_absolute_error'])"
   ]
  },
  {
   "cell_type": "code",
   "execution_count": 11,
   "metadata": {},
   "outputs": [
    {
     "data": {
      "text/plain": [
       "(19760, 60)"
      ]
     },
     "execution_count": 11,
     "metadata": {},
     "output_type": "execute_result"
    }
   ],
   "source": [
    "test_X.shape"
   ]
  },
  {
   "cell_type": "code",
   "execution_count": 12,
   "metadata": {},
   "outputs": [
    {
     "name": "stdout",
     "output_type": "stream",
     "text": [
      "618/618 [==============================] - 3s 3ms/step\n",
      "618/618 [==============================] - 2s 3ms/step\n"
     ]
    }
   ],
   "source": [
    "import numpy as np\n",
    "# test data\n",
    "preds_T = NN_model.predict(test_X)\n",
    "mae_T_t = mean_absolute_error(test_Y, preds_T)\n",
    "\n",
    "#val data\n",
    "preds_T_val = NN_model.predict(val_X)\n",
    "mae_T_v = mean_absolute_error(val_Y, preds_T_val)\n"
   ]
  },
  {
   "cell_type": "code",
   "execution_count": 13,
   "metadata": {},
   "outputs": [
    {
     "name": "stdout",
     "output_type": "stream",
     "text": [
      "MAE VALUE OF TEST DATA= 0.0015279386101732357 \n",
      "\n",
      "MAE VALUE OF VAL DATA= 0.0013110778463281433\n"
     ]
    }
   ],
   "source": [
    "# \n",
    "print(\"MAE VALUE OF TEST DATA=\", mae_T_t, \"\\n\")\n",
    "print(\"MAE VALUE OF VAL DATA=\", mae_T_v)"
   ]
  },
  {
   "cell_type": "code",
   "execution_count": 14,
   "metadata": {},
   "outputs": [
    {
     "data": {
      "text/plain": [
       "Text(0, 0.5, 'pred_labels_T_val')"
      ]
     },
     "execution_count": 14,
     "metadata": {},
     "output_type": "execute_result"
    },
    {
     "data": {
      "image/png": "[encoded data removed]",
      "text/plain": [
       "<Figure size 432x288 with 1 Axes>"
      ]
     },
     "metadata": {
      "needs_background": "light"
     },
     "output_type": "display_data"
    }
   ],
   "source": [
    "import matplotlib.pyplot as plt\n",
    "plt.scatter(test_Y,preds_T)\n",
    "plt.xlabel('test_Y')\n",
    "plt.ylabel('pred_labels_T_val')"
   ]
  }
 ],
 "metadata": {
  "kernelspec": {
   "display_name": "Python 3.9.12 ('base')",
   "language": "python",
   "name": "python3"
  },
  "language_info": {
   "codemirror_mode": {
    "name": "ipython",
    "version": 3
   },
   "file_extension": ".py",
   "mimetype": "text/x-python",
   "name": "python",
   "nbconvert_exporter": "python",
   "pygments_lexer": "ipython3",
   "version": "3.9.12"
  },
  "orig_nbformat": 4,
  "vscode": {
   "interpreter": {
    "hash": "66a19ea5f20bc52e6cb3c92a7c78abc463452fe56590fefcffb22eb4ed19e131"
   }
  }
 },
 "nbformat": 4,
 "nbformat_minor": 2
}
